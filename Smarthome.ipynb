{
  "nbformat": 4,
  "nbformat_minor": 0,
  "metadata": {
    "colab": {
      "provenance": [],
      "authorship_tag": "ABX9TyOZOv1jNtf602CXerSX+LNG",
      "include_colab_link": true
    },
    "kernelspec": {
      "name": "python3",
      "display_name": "Python 3"
    },
    "language_info": {
      "name": "python"
    }
  },
  "cells": [
    {
      "cell_type": "markdown",
      "metadata": {
        "id": "view-in-github",
        "colab_type": "text"
      },
      "source": [
        "<a href=\"https://colab.research.google.com/github/francis-100/Smarthome/blob/main/Smarthome.ipynb\" target=\"_parent\"><img src=\"https://colab.research.google.com/assets/colab-badge.svg\" alt=\"Open In Colab\"/></a>"
      ]
    },
    {
      "cell_type": "code",
      "execution_count": 164,
      "metadata": {
        "colab": {
          "base_uri": "https://localhost:8080/"
        },
        "id": "WqkCR8gp270q",
        "outputId": "36e728ba-ea7f-4db5-aaab-af796bf24831"
      },
      "outputs": [
        {
          "output_type": "stream",
          "name": "stderr",
          "text": [
            "[nltk_data] Downloading package punkt to /root/nltk_data...\n",
            "[nltk_data]   Package punkt is already up-to-date!\n"
          ]
        }
      ],
      "source": [
        "import numpy as np\n",
        "import pandas as pd\n",
        "import seaborn as sns\n",
        "import matplotlib.pyplot as plt\n",
        "import nltk\n",
        "# from pyngrok import ngrok\n",
        "# import streamlit as st\n",
        "\n",
        "# Download the 'punkt' resource\n",
        "nltk.download('punkt')\n",
        "%matplotlib inline"
      ]
    },
    {
      "cell_type": "code",
      "source": [
        "df = pd.read_csv(\"smarthome.csv\")"
      ],
      "metadata": {
        "id": "_30airCC5d62"
      },
      "execution_count": 165,
      "outputs": []
    },
    {
      "cell_type": "code",
      "source": [
        "del df[\"Number\"]\n",
        "df"
      ],
      "metadata": {
        "colab": {
          "base_uri": "https://localhost:8080/",
          "height": 701
        },
        "id": "6cCW2ZhL6Bdk",
        "outputId": "47c6dda2-a4f2-4d5e-e22f-21db96ff1b9c"
      },
      "execution_count": 166,
      "outputs": [
        {
          "output_type": "execute_result",
          "data": {
            "text/plain": [
              "    Category  Action_needed  Question Subcategory Action      Time  \\\n",
              "0     lights              1         0     kitchen     on     today   \n",
              "1     lights              1         0     kitchen     on  tomorrow   \n",
              "2     lights              1         0     kitchen     on      hour   \n",
              "3     lights              1         0     kitchen     on       day   \n",
              "4     lights              1         0  diningroom     on     today   \n",
              "..       ...            ...       ...         ...    ...       ...   \n",
              "658     time              0         0        none   none       now   \n",
              "659     time              0         0        none   none       now   \n",
              "660     time              1         0        none   none      hour   \n",
              "661     time              1         0        none   none       day   \n",
              "662     time              1         0        none   none       now   \n",
              "\n",
              "                                          Sentence  \n",
              "0                    Illuminate the kitchen today.  \n",
              "1                 Illuminate the kitchen tomorrow.  \n",
              "2    Turn on the light in the kitchen in 10 hours.  \n",
              "3       Turn on the light in the kitchen in 1 day.  \n",
              "4                Illuminate the dining room today.  \n",
              "..                                             ...  \n",
              "658                                          Time.  \n",
              "659          I don't want you to tell me the time.  \n",
              "660                   Tell me the time in an hour.  \n",
              "661                     Tell me the time in a day.  \n",
              "662                        What does te clock say?  \n",
              "\n",
              "[663 rows x 7 columns]"
            ],
            "text/html": [
              "\n",
              "  <div id=\"df-460697a5-60bd-4575-baff-b9f7610a1d11\" class=\"colab-df-container\">\n",
              "    <div>\n",
              "<style scoped>\n",
              "    .dataframe tbody tr th:only-of-type {\n",
              "        vertical-align: middle;\n",
              "    }\n",
              "\n",
              "    .dataframe tbody tr th {\n",
              "        vertical-align: top;\n",
              "    }\n",
              "\n",
              "    .dataframe thead th {\n",
              "        text-align: right;\n",
              "    }\n",
              "</style>\n",
              "<table border=\"1\" class=\"dataframe\">\n",
              "  <thead>\n",
              "    <tr style=\"text-align: right;\">\n",
              "      <th></th>\n",
              "      <th>Category</th>\n",
              "      <th>Action_needed</th>\n",
              "      <th>Question</th>\n",
              "      <th>Subcategory</th>\n",
              "      <th>Action</th>\n",
              "      <th>Time</th>\n",
              "      <th>Sentence</th>\n",
              "    </tr>\n",
              "  </thead>\n",
              "  <tbody>\n",
              "    <tr>\n",
              "      <th>0</th>\n",
              "      <td>lights</td>\n",
              "      <td>1</td>\n",
              "      <td>0</td>\n",
              "      <td>kitchen</td>\n",
              "      <td>on</td>\n",
              "      <td>today</td>\n",
              "      <td>Illuminate the kitchen today.</td>\n",
              "    </tr>\n",
              "    <tr>\n",
              "      <th>1</th>\n",
              "      <td>lights</td>\n",
              "      <td>1</td>\n",
              "      <td>0</td>\n",
              "      <td>kitchen</td>\n",
              "      <td>on</td>\n",
              "      <td>tomorrow</td>\n",
              "      <td>Illuminate the kitchen tomorrow.</td>\n",
              "    </tr>\n",
              "    <tr>\n",
              "      <th>2</th>\n",
              "      <td>lights</td>\n",
              "      <td>1</td>\n",
              "      <td>0</td>\n",
              "      <td>kitchen</td>\n",
              "      <td>on</td>\n",
              "      <td>hour</td>\n",
              "      <td>Turn on the light in the kitchen in 10 hours.</td>\n",
              "    </tr>\n",
              "    <tr>\n",
              "      <th>3</th>\n",
              "      <td>lights</td>\n",
              "      <td>1</td>\n",
              "      <td>0</td>\n",
              "      <td>kitchen</td>\n",
              "      <td>on</td>\n",
              "      <td>day</td>\n",
              "      <td>Turn on the light in the kitchen in 1 day.</td>\n",
              "    </tr>\n",
              "    <tr>\n",
              "      <th>4</th>\n",
              "      <td>lights</td>\n",
              "      <td>1</td>\n",
              "      <td>0</td>\n",
              "      <td>diningroom</td>\n",
              "      <td>on</td>\n",
              "      <td>today</td>\n",
              "      <td>Illuminate the dining room today.</td>\n",
              "    </tr>\n",
              "    <tr>\n",
              "      <th>...</th>\n",
              "      <td>...</td>\n",
              "      <td>...</td>\n",
              "      <td>...</td>\n",
              "      <td>...</td>\n",
              "      <td>...</td>\n",
              "      <td>...</td>\n",
              "      <td>...</td>\n",
              "    </tr>\n",
              "    <tr>\n",
              "      <th>658</th>\n",
              "      <td>time</td>\n",
              "      <td>0</td>\n",
              "      <td>0</td>\n",
              "      <td>none</td>\n",
              "      <td>none</td>\n",
              "      <td>now</td>\n",
              "      <td>Time.</td>\n",
              "    </tr>\n",
              "    <tr>\n",
              "      <th>659</th>\n",
              "      <td>time</td>\n",
              "      <td>0</td>\n",
              "      <td>0</td>\n",
              "      <td>none</td>\n",
              "      <td>none</td>\n",
              "      <td>now</td>\n",
              "      <td>I don't want you to tell me the time.</td>\n",
              "    </tr>\n",
              "    <tr>\n",
              "      <th>660</th>\n",
              "      <td>time</td>\n",
              "      <td>1</td>\n",
              "      <td>0</td>\n",
              "      <td>none</td>\n",
              "      <td>none</td>\n",
              "      <td>hour</td>\n",
              "      <td>Tell me the time in an hour.</td>\n",
              "    </tr>\n",
              "    <tr>\n",
              "      <th>661</th>\n",
              "      <td>time</td>\n",
              "      <td>1</td>\n",
              "      <td>0</td>\n",
              "      <td>none</td>\n",
              "      <td>none</td>\n",
              "      <td>day</td>\n",
              "      <td>Tell me the time in a day.</td>\n",
              "    </tr>\n",
              "    <tr>\n",
              "      <th>662</th>\n",
              "      <td>time</td>\n",
              "      <td>1</td>\n",
              "      <td>0</td>\n",
              "      <td>none</td>\n",
              "      <td>none</td>\n",
              "      <td>now</td>\n",
              "      <td>What does te clock say?</td>\n",
              "    </tr>\n",
              "  </tbody>\n",
              "</table>\n",
              "<p>663 rows × 7 columns</p>\n",
              "</div>\n",
              "    <div class=\"colab-df-buttons\">\n",
              "\n",
              "  <div class=\"colab-df-container\">\n",
              "    <button class=\"colab-df-convert\" onclick=\"convertToInteractive('df-460697a5-60bd-4575-baff-b9f7610a1d11')\"\n",
              "            title=\"Convert this dataframe to an interactive table.\"\n",
              "            style=\"display:none;\">\n",
              "\n",
              "  <svg xmlns=\"http://www.w3.org/2000/svg\" height=\"24px\" viewBox=\"0 -960 960 960\">\n",
              "    <path d=\"M120-120v-720h720v720H120Zm60-500h600v-160H180v160Zm220 220h160v-160H400v160Zm0 220h160v-160H400v160ZM180-400h160v-160H180v160Zm440 0h160v-160H620v160ZM180-180h160v-160H180v160Zm440 0h160v-160H620v160Z\"/>\n",
              "  </svg>\n",
              "    </button>\n",
              "\n",
              "  <style>\n",
              "    .colab-df-container {\n",
              "      display:flex;\n",
              "      gap: 12px;\n",
              "    }\n",
              "\n",
              "    .colab-df-convert {\n",
              "      background-color: #E8F0FE;\n",
              "      border: none;\n",
              "      border-radius: 50%;\n",
              "      cursor: pointer;\n",
              "      display: none;\n",
              "      fill: #1967D2;\n",
              "      height: 32px;\n",
              "      padding: 0 0 0 0;\n",
              "      width: 32px;\n",
              "    }\n",
              "\n",
              "    .colab-df-convert:hover {\n",
              "      background-color: #E2EBFA;\n",
              "      box-shadow: 0px 1px 2px rgba(60, 64, 67, 0.3), 0px 1px 3px 1px rgba(60, 64, 67, 0.15);\n",
              "      fill: #174EA6;\n",
              "    }\n",
              "\n",
              "    .colab-df-buttons div {\n",
              "      margin-bottom: 4px;\n",
              "    }\n",
              "\n",
              "    [theme=dark] .colab-df-convert {\n",
              "      background-color: #3B4455;\n",
              "      fill: #D2E3FC;\n",
              "    }\n",
              "\n",
              "    [theme=dark] .colab-df-convert:hover {\n",
              "      background-color: #434B5C;\n",
              "      box-shadow: 0px 1px 3px 1px rgba(0, 0, 0, 0.15);\n",
              "      filter: drop-shadow(0px 1px 2px rgba(0, 0, 0, 0.3));\n",
              "      fill: #FFFFFF;\n",
              "    }\n",
              "  </style>\n",
              "\n",
              "    <script>\n",
              "      const buttonEl =\n",
              "        document.querySelector('#df-460697a5-60bd-4575-baff-b9f7610a1d11 button.colab-df-convert');\n",
              "      buttonEl.style.display =\n",
              "        google.colab.kernel.accessAllowed ? 'block' : 'none';\n",
              "\n",
              "      async function convertToInteractive(key) {\n",
              "        const element = document.querySelector('#df-460697a5-60bd-4575-baff-b9f7610a1d11');\n",
              "        const dataTable =\n",
              "          await google.colab.kernel.invokeFunction('convertToInteractive',\n",
              "                                                    [key], {});\n",
              "        if (!dataTable) return;\n",
              "\n",
              "        const docLinkHtml = 'Like what you see? Visit the ' +\n",
              "          '<a target=\"_blank\" href=https://colab.research.google.com/notebooks/data_table.ipynb>data table notebook</a>'\n",
              "          + ' to learn more about interactive tables.';\n",
              "        element.innerHTML = '';\n",
              "        dataTable['output_type'] = 'display_data';\n",
              "        await google.colab.output.renderOutput(dataTable, element);\n",
              "        const docLink = document.createElement('div');\n",
              "        docLink.innerHTML = docLinkHtml;\n",
              "        element.appendChild(docLink);\n",
              "      }\n",
              "    </script>\n",
              "  </div>\n",
              "\n",
              "\n",
              "<div id=\"df-f2cae511-f44b-47d7-9515-5a819b0967c5\">\n",
              "  <button class=\"colab-df-quickchart\" onclick=\"quickchart('df-f2cae511-f44b-47d7-9515-5a819b0967c5')\"\n",
              "            title=\"Suggest charts\"\n",
              "            style=\"display:none;\">\n",
              "\n",
              "<svg xmlns=\"http://www.w3.org/2000/svg\" height=\"24px\"viewBox=\"0 0 24 24\"\n",
              "     width=\"24px\">\n",
              "    <g>\n",
              "        <path d=\"M19 3H5c-1.1 0-2 .9-2 2v14c0 1.1.9 2 2 2h14c1.1 0 2-.9 2-2V5c0-1.1-.9-2-2-2zM9 17H7v-7h2v7zm4 0h-2V7h2v10zm4 0h-2v-4h2v4z\"/>\n",
              "    </g>\n",
              "</svg>\n",
              "  </button>\n",
              "\n",
              "<style>\n",
              "  .colab-df-quickchart {\n",
              "      --bg-color: #E8F0FE;\n",
              "      --fill-color: #1967D2;\n",
              "      --hover-bg-color: #E2EBFA;\n",
              "      --hover-fill-color: #174EA6;\n",
              "      --disabled-fill-color: #AAA;\n",
              "      --disabled-bg-color: #DDD;\n",
              "  }\n",
              "\n",
              "  [theme=dark] .colab-df-quickchart {\n",
              "      --bg-color: #3B4455;\n",
              "      --fill-color: #D2E3FC;\n",
              "      --hover-bg-color: #434B5C;\n",
              "      --hover-fill-color: #FFFFFF;\n",
              "      --disabled-bg-color: #3B4455;\n",
              "      --disabled-fill-color: #666;\n",
              "  }\n",
              "\n",
              "  .colab-df-quickchart {\n",
              "    background-color: var(--bg-color);\n",
              "    border: none;\n",
              "    border-radius: 50%;\n",
              "    cursor: pointer;\n",
              "    display: none;\n",
              "    fill: var(--fill-color);\n",
              "    height: 32px;\n",
              "    padding: 0;\n",
              "    width: 32px;\n",
              "  }\n",
              "\n",
              "  .colab-df-quickchart:hover {\n",
              "    background-color: var(--hover-bg-color);\n",
              "    box-shadow: 0 1px 2px rgba(60, 64, 67, 0.3), 0 1px 3px 1px rgba(60, 64, 67, 0.15);\n",
              "    fill: var(--button-hover-fill-color);\n",
              "  }\n",
              "\n",
              "  .colab-df-quickchart-complete:disabled,\n",
              "  .colab-df-quickchart-complete:disabled:hover {\n",
              "    background-color: var(--disabled-bg-color);\n",
              "    fill: var(--disabled-fill-color);\n",
              "    box-shadow: none;\n",
              "  }\n",
              "\n",
              "  .colab-df-spinner {\n",
              "    border: 2px solid var(--fill-color);\n",
              "    border-color: transparent;\n",
              "    border-bottom-color: var(--fill-color);\n",
              "    animation:\n",
              "      spin 1s steps(1) infinite;\n",
              "  }\n",
              "\n",
              "  @keyframes spin {\n",
              "    0% {\n",
              "      border-color: transparent;\n",
              "      border-bottom-color: var(--fill-color);\n",
              "      border-left-color: var(--fill-color);\n",
              "    }\n",
              "    20% {\n",
              "      border-color: transparent;\n",
              "      border-left-color: var(--fill-color);\n",
              "      border-top-color: var(--fill-color);\n",
              "    }\n",
              "    30% {\n",
              "      border-color: transparent;\n",
              "      border-left-color: var(--fill-color);\n",
              "      border-top-color: var(--fill-color);\n",
              "      border-right-color: var(--fill-color);\n",
              "    }\n",
              "    40% {\n",
              "      border-color: transparent;\n",
              "      border-right-color: var(--fill-color);\n",
              "      border-top-color: var(--fill-color);\n",
              "    }\n",
              "    60% {\n",
              "      border-color: transparent;\n",
              "      border-right-color: var(--fill-color);\n",
              "    }\n",
              "    80% {\n",
              "      border-color: transparent;\n",
              "      border-right-color: var(--fill-color);\n",
              "      border-bottom-color: var(--fill-color);\n",
              "    }\n",
              "    90% {\n",
              "      border-color: transparent;\n",
              "      border-bottom-color: var(--fill-color);\n",
              "    }\n",
              "  }\n",
              "</style>\n",
              "\n",
              "  <script>\n",
              "    async function quickchart(key) {\n",
              "      const quickchartButtonEl =\n",
              "        document.querySelector('#' + key + ' button');\n",
              "      quickchartButtonEl.disabled = true;  // To prevent multiple clicks.\n",
              "      quickchartButtonEl.classList.add('colab-df-spinner');\n",
              "      try {\n",
              "        const charts = await google.colab.kernel.invokeFunction(\n",
              "            'suggestCharts', [key], {});\n",
              "      } catch (error) {\n",
              "        console.error('Error during call to suggestCharts:', error);\n",
              "      }\n",
              "      quickchartButtonEl.classList.remove('colab-df-spinner');\n",
              "      quickchartButtonEl.classList.add('colab-df-quickchart-complete');\n",
              "    }\n",
              "    (() => {\n",
              "      let quickchartButtonEl =\n",
              "        document.querySelector('#df-f2cae511-f44b-47d7-9515-5a819b0967c5 button');\n",
              "      quickchartButtonEl.style.display =\n",
              "        google.colab.kernel.accessAllowed ? 'block' : 'none';\n",
              "    })();\n",
              "  </script>\n",
              "</div>\n",
              "\n",
              "  <div id=\"id_7c647b0b-8cf5-4113-ae5f-06293faaa44e\">\n",
              "    <style>\n",
              "      .colab-df-generate {\n",
              "        background-color: #E8F0FE;\n",
              "        border: none;\n",
              "        border-radius: 50%;\n",
              "        cursor: pointer;\n",
              "        display: none;\n",
              "        fill: #1967D2;\n",
              "        height: 32px;\n",
              "        padding: 0 0 0 0;\n",
              "        width: 32px;\n",
              "      }\n",
              "\n",
              "      .colab-df-generate:hover {\n",
              "        background-color: #E2EBFA;\n",
              "        box-shadow: 0px 1px 2px rgba(60, 64, 67, 0.3), 0px 1px 3px 1px rgba(60, 64, 67, 0.15);\n",
              "        fill: #174EA6;\n",
              "      }\n",
              "\n",
              "      [theme=dark] .colab-df-generate {\n",
              "        background-color: #3B4455;\n",
              "        fill: #D2E3FC;\n",
              "      }\n",
              "\n",
              "      [theme=dark] .colab-df-generate:hover {\n",
              "        background-color: #434B5C;\n",
              "        box-shadow: 0px 1px 3px 1px rgba(0, 0, 0, 0.15);\n",
              "        filter: drop-shadow(0px 1px 2px rgba(0, 0, 0, 0.3));\n",
              "        fill: #FFFFFF;\n",
              "      }\n",
              "    </style>\n",
              "    <button class=\"colab-df-generate\" onclick=\"generateWithVariable('df')\"\n",
              "            title=\"Generate code using this dataframe.\"\n",
              "            style=\"display:none;\">\n",
              "\n",
              "  <svg xmlns=\"http://www.w3.org/2000/svg\" height=\"24px\"viewBox=\"0 0 24 24\"\n",
              "       width=\"24px\">\n",
              "    <path d=\"M7,19H8.4L18.45,9,17,7.55,7,17.6ZM5,21V16.75L18.45,3.32a2,2,0,0,1,2.83,0l1.4,1.43a1.91,1.91,0,0,1,.58,1.4,1.91,1.91,0,0,1-.58,1.4L9.25,21ZM18.45,9,17,7.55Zm-12,3A5.31,5.31,0,0,0,4.9,8.1,5.31,5.31,0,0,0,1,6.5,5.31,5.31,0,0,0,4.9,4.9,5.31,5.31,0,0,0,6.5,1,5.31,5.31,0,0,0,8.1,4.9,5.31,5.31,0,0,0,12,6.5,5.46,5.46,0,0,0,6.5,12Z\"/>\n",
              "  </svg>\n",
              "    </button>\n",
              "    <script>\n",
              "      (() => {\n",
              "      const buttonEl =\n",
              "        document.querySelector('#id_7c647b0b-8cf5-4113-ae5f-06293faaa44e button.colab-df-generate');\n",
              "      buttonEl.style.display =\n",
              "        google.colab.kernel.accessAllowed ? 'block' : 'none';\n",
              "\n",
              "      buttonEl.onclick = () => {\n",
              "        google.colab.notebook.generateWithVariable('df');\n",
              "      }\n",
              "      })();\n",
              "    </script>\n",
              "  </div>\n",
              "\n",
              "    </div>\n",
              "  </div>\n"
            ],
            "application/vnd.google.colaboratory.intrinsic+json": {
              "type": "dataframe",
              "variable_name": "df",
              "summary": "{\n  \"name\": \"df\",\n  \"rows\": 663,\n  \"fields\": [\n    {\n      \"column\": \"Category\",\n      \"properties\": {\n        \"dtype\": \"category\",\n        \"num_unique_values\": 13,\n        \"samples\": [\n          \"coffeemachine\",\n          \"toaster\",\n          \"lights\"\n        ],\n        \"semantic_type\": \"\",\n        \"description\": \"\"\n      }\n    },\n    {\n      \"column\": \"Action_needed\",\n      \"properties\": {\n        \"dtype\": \"number\",\n        \"std\": 0,\n        \"min\": 0,\n        \"max\": 1,\n        \"num_unique_values\": 2,\n        \"samples\": [\n          0,\n          1\n        ],\n        \"semantic_type\": \"\",\n        \"description\": \"\"\n      }\n    },\n    {\n      \"column\": \"Question\",\n      \"properties\": {\n        \"dtype\": \"number\",\n        \"std\": 0,\n        \"min\": 0,\n        \"max\": 1,\n        \"num_unique_values\": 2,\n        \"samples\": [\n          1,\n          0\n        ],\n        \"semantic_type\": \"\",\n        \"description\": \"\"\n      }\n    },\n    {\n      \"column\": \"Subcategory\",\n      \"properties\": {\n        \"dtype\": \"category\",\n        \"num_unique_values\": 18,\n        \"samples\": [\n          \"kitchen\",\n          \"diningroom\"\n        ],\n        \"semantic_type\": \"\",\n        \"description\": \"\"\n      }\n    },\n    {\n      \"column\": \"Action\",\n      \"properties\": {\n        \"dtype\": \"category\",\n        \"num_unique_values\": 6,\n        \"samples\": [\n          \"on\",\n          \"none\"\n        ],\n        \"semantic_type\": \"\",\n        \"description\": \"\"\n      }\n    },\n    {\n      \"column\": \"Time\",\n      \"properties\": {\n        \"dtype\": \"category\",\n        \"num_unique_values\": 11,\n        \"samples\": [\n          \"minute\",\n          \"today\"\n        ],\n        \"semantic_type\": \"\",\n        \"description\": \"\"\n      }\n    },\n    {\n      \"column\": \"Sentence\",\n      \"properties\": {\n        \"dtype\": \"string\",\n        \"num_unique_values\": 645,\n        \"samples\": [\n          \"Turn off the coffeemachine when the coffee is done.\",\n          \"Shut down the garage door in 21 minutes for me.\"\n        ],\n        \"semantic_type\": \"\",\n        \"description\": \"\"\n      }\n    }\n  ]\n}"
            }
          },
          "metadata": {},
          "execution_count": 166
        }
      ]
    },
    {
      "cell_type": "code",
      "source": [],
      "metadata": {
        "id": "iTUZW5QCjVo2"
      },
      "execution_count": 166,
      "outputs": []
    },
    {
      "cell_type": "code",
      "source": [
        "df.info()"
      ],
      "metadata": {
        "colab": {
          "base_uri": "https://localhost:8080/"
        },
        "id": "8Z7xxf4e6I6-",
        "outputId": "a06f0294-e470-474c-9f80-66a216e05973"
      },
      "execution_count": 167,
      "outputs": [
        {
          "output_type": "stream",
          "name": "stdout",
          "text": [
            "<class 'pandas.core.frame.DataFrame'>\n",
            "RangeIndex: 663 entries, 0 to 662\n",
            "Data columns (total 7 columns):\n",
            " #   Column         Non-Null Count  Dtype \n",
            "---  ------         --------------  ----- \n",
            " 0   Category       663 non-null    object\n",
            " 1   Action_needed  663 non-null    int64 \n",
            " 2   Question       663 non-null    int64 \n",
            " 3   Subcategory    663 non-null    object\n",
            " 4   Action         663 non-null    object\n",
            " 5   Time           663 non-null    object\n",
            " 6   Sentence       663 non-null    object\n",
            "dtypes: int64(2), object(5)\n",
            "memory usage: 36.4+ KB\n"
          ]
        }
      ]
    },
    {
      "cell_type": "code",
      "source": [
        "from nltk import word_tokenize\n",
        "import itertools\n",
        "import math"
      ],
      "metadata": {
        "id": "1GcbdFT0619S"
      },
      "execution_count": 168,
      "outputs": []
    },
    {
      "cell_type": "code",
      "source": [
        "# Extract unique words from the DataFrame's 'Sentence' column\n",
        "# and then print out the resulting vocabulary.\n",
        "\n",
        "sentences = df['Sentence']\n",
        "categories = df['Category']\n",
        "subcategories = df['Subcategory']\n",
        "actions = df['Action']\n",
        "\n",
        "uniquecategories = list(set(categories))\n",
        "uniquesubcategories = list(set(subcategories))\n",
        "uniqueactions = list(set(actions))\n",
        "\n",
        "mergesentences = list(itertools.chain.from_iterable([word_tokenize(sentence.lower()) for sentence in sentences]))\n",
        "vocabulary = list(set(mergesentences))\n",
        "print(vocabulary)"
      ],
      "metadata": {
        "colab": {
          "base_uri": "https://localhost:8080/"
        },
        "id": "OoRTmBgg7Qw3",
        "outputId": "6218cdf2-bb31-48d6-8856-80a42a8b3476"
      },
      "execution_count": 169,
      "outputs": [
        {
          "output_type": "stream",
          "name": "stdout",
          "text": [
            "['time', 'six', 'which', 'first', 'put', 'north', 'leuven', 'tallest', 'species', 'dinin', 'freezing', 'busses', 'info', 'so', 'next', 'for', 'installed', 'humidity', 'shine', 'minutes', 'bus', 'cloudy', 'few', 'cofeemachine', 'on', 'viewer', 'i', 'greece', 'activity', 'music', 'get', 'centigrade', 'one', 'attic', 'mallorca', 'sick', 'coming', 'viewing', 'myplace', 'up', 'leave', 'strange', 'when', 'possible', 'two', 'bathroom', 'day', 'the', 'long', 'house', 'mouth', 'water', 'mean', 'hail', 'getting', 'cut', 'out', 'car', 'week', 'ten', '8', 'could', 'strangers', 'running', 'readings', 'responds', 'ca', 'falls', 'please', 'or', 'over', 'sensors', 'tomorrow', 'who', \"'re\", 'degrees', 'sandler', 'bored', 'many', 'unusual', 'operation', 'storming', 'bike', 'hit', 'app', 'something', 'alone', 'september', 'drowning', 'spain', 'dining', 'google', 'machine', 'minute', '.', 'make', 'great', 'locationtracker', 'anymore', 'down', 'is', \"'s\", 'a', 'basement', 'movies', 'hours', 'bright', 'nearest', 'lighten', 'humans', 'freezes', 'special', '45', 'malfunctions', 'door', 'know', 'with', 'premier', 'democrat', '20', 'hasselt', 'already', 'device', 'balen', 'recording', 'cellar', 'from', 'tell', 'was', 'use', 'am', 'were', 'should', 'drug', 'refrigerator', 'today', 'raise', 'closest', 'want', 'ride', 'rises', '21', 'trains', 'oven', 'do', 'made', 'show', 'sure', '6', 'transport', 'cats', 'your', 'higher', 'window', '!', 'an', 'maps', 'coffee', 'now', 'warm', 'favor', 'some', '112', 'players', 'give', 'lower', 'living', 'rain', 'shining', '0', 'that', 'universe', 'celsius', 'feel', 'stop', 'far', 'clouds', '43', 'station', 'toilet', 'freeze', 'did', 'train', '2', 'antwerpen', 'direction', 'justin', 'wake', 'trench', 'keep', 'eighteen', 'help', 'currently', 'be', 'antwerp', 'facebook', 'there', 'information', 'crete', 'islands', \"n't\", 'flicker', 'certain', 'person', 'temperature', 'weed', 'considered', 'gets', 'animals', '4', 'mad', 'bieber', 'toaster', 'depart', 'appliance', 'continent', 'league', 'location', 'te', 'electricity', '5', 'fourteen', '11', 'climbs', 'enlighten', 'question', 'doing', 'malidives', 'kitchen', 'religions', 'sixteen', '50', 'brussels', 'random', 'tonight', 'before', 'averaged', 'month', 'light', 'this', 'hot', 'let', 'blinding', 'system', 'live', 'off', 'home', 'later', 'sun', 'tall', 'it', 'backyard', 'reading', 'see', 'what', 'ready', 'any', 'brighter', 'motion', 'shut', \"'d\", 'weeks', 'tot', 'human', 'say', 'and', 'pixels', 'here', 'right', 'my', 'adam', 'fog', 'wet', 'not', 'heating', 'capital', 'letting', 'directions', 'things', 'nothing', 'lot', 'fahrenheit', 'between', 'done', 'been', 'toast', 'less', 'why', 'shooting', '1', 'lights', 'amount', 'without', 'above', 'find', 'rooms', 'can', 'me', 'we', 'yesterday', 'library', 'foggy', 'public', 'hour', 'feelings', 'more', 'update', 'trump', 'turn', 'has', 'to', 'control', 'play', 'are', 'will', 'close', 'you', 'sad', 'coffeemachine', 'past', '85', 'exist', 'meaning', 'room', 'shutters', 'at', 'of', 'way', 'diningroom', 'illuminate', 'donald', 'power', 'facing', 'departure', 'ok', 'outdoor', 'october', 'where', 'all', 'republican', 'weather', 'stupid', 'like', 'in', '7', 'other', 'cold', 'little', 'written', 'lately', 'gradually', '3', 'movement', 'alive', 'skies', 'happy', 'earth', 'language', 'camera', 'sensor', 'dark', 'too', '15', 'move', 'anything', 'relay', '10', 'would', 'appear', 'days', 'deepest', 'think', 'oceans', 'go', 'internet', 'colder', 'outside', 'travel', 'flow', 'hard', 'going', '?', 'dinosaurs', 'mountain', 'dogs', 'garage', 'about', 'below', 'life', 'shown', 'place', 'have', 'belgium', 'cameras', 'animal', 'hailing', 'if', 'does', 'own', 'how', 'clock', 'delays', 'open', 'potatoes']\n"
          ]
        }
      ]
    },
    {
      "cell_type": "code",
      "source": [
        "# calculate word frequency in a sentence\n",
        "def term_frequency(word, sentence):\n",
        "    return sentence.split().count(word)"
      ],
      "metadata": {
        "id": "Hk-va_Ai7VGy"
      },
      "execution_count": 170,
      "outputs": []
    },
    {
      "cell_type": "code",
      "source": [
        "# calculate word frequency in vocabulary\n",
        "def document_frequency(word):\n",
        "    return vocabulary.count(word)"
      ],
      "metadata": {
        "id": "o1uJlExT7aMm"
      },
      "execution_count": 171,
      "outputs": []
    },
    {
      "cell_type": "code",
      "source": [
        "# lower weight for unimportant words\n",
        "def inverse_document_frequency(word):\n",
        "    return math.log(len(vocabulary) / (document_frequency(word) + 1))"
      ],
      "metadata": {
        "id": "ffkRU8zq7ajf"
      },
      "execution_count": 172,
      "outputs": []
    },
    {
      "cell_type": "code",
      "source": [
        "# get term frequency inverse document frequency value\n",
        "def calculate_tfidf(word, sentence):\n",
        "    return term_frequency(word, sentence) * inverse_document_frequency(word)"
      ],
      "metadata": {
        "id": "mqgRIWRE7g5v"
      },
      "execution_count": 173,
      "outputs": []
    },
    {
      "cell_type": "code",
      "source": [
        "# get one-hot encoded vectors for the targets\n",
        "def one_hot_class_vector(uniqueclasses, w):\n",
        "    emptyvector = [0 for i in range(len(uniqueclasses))]\n",
        "    emptyvector[uniqueclasses.index(w)] = 1\n",
        "    return emptyvector"
      ],
      "metadata": {
        "id": "3p8MwyHE7jx2"
      },
      "execution_count": 174,
      "outputs": []
    },
    {
      "cell_type": "code",
      "source": [
        "# get one-hot encoded vectors for the words\n",
        "def one_hot_vector(w):\n",
        "    emptyvector = [0 for i in range(len(vocabulary))]\n",
        "    emptyvector[vocabulary.index(w)] = 1\n",
        "    return emptyvector"
      ],
      "metadata": {
        "id": "Cl7smXG77m4f"
      },
      "execution_count": 175,
      "outputs": []
    },
    {
      "cell_type": "code",
      "source": [
        "# get one-hot encdoded sentence vector\n",
        "def sentence_vector(sentence, tfidf=False):\n",
        "    tokenizedlist = word_tokenize(sentence.lower())\n",
        "    sentencevector = [0 for i in range(len(vocabulary))]\n",
        "    count = 0\n",
        "\n",
        "    for word in tokenizedlist:\n",
        "        if word in vocabulary:\n",
        "            count = count + 1\n",
        "            if tfidf:\n",
        "                sentencevector = [x + y for x, y in zip(sentencevector, [e * calculate_tfidf(word, sentence) for e in one_hot_vector(word)])]\n",
        "            else:\n",
        "                sentencevector = [x + y for x, y in zip(sentencevector, one_hot_vector(word))]\n",
        "\n",
        "    if count == 0:\n",
        "        return sentencevector\n",
        "    else:\n",
        "        return [(el / count) for el in sentencevector]"
      ],
      "metadata": {
        "id": "VJTNdyXs7rMg"
      },
      "execution_count": 176,
      "outputs": []
    },
    {
      "cell_type": "code",
      "source": [
        "# wordvectors = [one_hot_vector(w) for w in vocabulary]\n",
        "categoryvectors = [cv.index(1) for cv in [one_hot_class_vector(uniquecategories, w) for w in categories]]\n",
        "subcategoryvectors = [cv.index(1) for cv in [one_hot_class_vector(uniquesubcategories, w) for w in subcategories]]\n",
        "actionvectors = [cv.index(1) for cv in [one_hot_class_vector(uniqueactions, w) for w in actions]]\n",
        "sentencevectors = [sentence_vector(sentence) for sentence in sentences]\n",
        "sentencevectorstfidf = [sentence_vector(sentence, True) for sentence in sentences]"
      ],
      "metadata": {
        "id": "9YME6YEg7rAB"
      },
      "execution_count": 177,
      "outputs": []
    },
    {
      "cell_type": "code",
      "source": [
        "from sklearn.neural_network import MLPClassifier\n",
        "from sklearn.model_selection import train_test_split\n",
        "from sklearn.metrics import accuracy_score"
      ],
      "metadata": {
        "id": "3-KNdgyVI5UG"
      },
      "execution_count": 178,
      "outputs": []
    },
    {
      "cell_type": "code",
      "source": [
        "# Splitting data into training and testing sets for category prediction\n",
        "X_train_cat, X_test_cat, y_train_cat, y_test_cat = train_test_split(sentencevectors, categoryvectors, test_size=0.25, random_state=42)\n",
        "\n",
        "# Splitting data into training and testing sets for category prediction with TF-IDF vectors\n",
        "X_train_cat_tfidf, X_test_cat_tfidf, y_train_cat_tfidf, y_test_cat_tfidf = train_test_split(sentencevectorstfidf, categoryvectors, test_size=0.25, random_state=42)\n",
        "\n",
        "# Splitting data into training and testing sets for subcategory prediction\n",
        "X_train_subcat, X_test_subcat, y_train_subcat, y_test_subcat = train_test_split(sentencevectors, subcategoryvectors, test_size=0.25, random_state=42)\n",
        "\n",
        "# Splitting data into training and testing sets for action prediction\n",
        "X_train_action, X_test_action, y_train_action, y_test_action = train_test_split(sentencevectors, actionvectors, test_size=0.25, random_state=42)"
      ],
      "metadata": {
        "id": "YSKS1Kf6IP-W"
      },
      "execution_count": 179,
      "outputs": []
    },
    {
      "cell_type": "code",
      "source": [
        "def train_fit(model_name, model, X_train, y_train, X_test, y_test):\n",
        "    model.fit(X_train, y_train)\n",
        "    return model"
      ],
      "metadata": {
        "id": "CjpI_aBBHcVG"
      },
      "execution_count": 180,
      "outputs": []
    },
    {
      "cell_type": "code",
      "source": [
        "# Create MLPClassifier model\n",
        "mlp_max_iter_model = MLPClassifier(max_iter=10000)\n",
        "\n",
        "# Train and fit the model\n",
        "mlp_max_iter_model.fit(X_train_cat, y_train_cat)"
      ],
      "metadata": {
        "colab": {
          "base_uri": "https://localhost:8080/",
          "height": 75
        },
        "id": "BRbocZ_oBEwf",
        "outputId": "33c18072-bcaa-422b-a557-6d6be7a9d997"
      },
      "execution_count": 181,
      "outputs": [
        {
          "output_type": "execute_result",
          "data": {
            "text/plain": [
              "MLPClassifier(max_iter=10000)"
            ],
            "text/html": [
              "<style>#sk-container-id-6 {color: black;background-color: white;}#sk-container-id-6 pre{padding: 0;}#sk-container-id-6 div.sk-toggleable {background-color: white;}#sk-container-id-6 label.sk-toggleable__label {cursor: pointer;display: block;width: 100%;margin-bottom: 0;padding: 0.3em;box-sizing: border-box;text-align: center;}#sk-container-id-6 label.sk-toggleable__label-arrow:before {content: \"▸\";float: left;margin-right: 0.25em;color: #696969;}#sk-container-id-6 label.sk-toggleable__label-arrow:hover:before {color: black;}#sk-container-id-6 div.sk-estimator:hover label.sk-toggleable__label-arrow:before {color: black;}#sk-container-id-6 div.sk-toggleable__content {max-height: 0;max-width: 0;overflow: hidden;text-align: left;background-color: #f0f8ff;}#sk-container-id-6 div.sk-toggleable__content pre {margin: 0.2em;color: black;border-radius: 0.25em;background-color: #f0f8ff;}#sk-container-id-6 input.sk-toggleable__control:checked~div.sk-toggleable__content {max-height: 200px;max-width: 100%;overflow: auto;}#sk-container-id-6 input.sk-toggleable__control:checked~label.sk-toggleable__label-arrow:before {content: \"▾\";}#sk-container-id-6 div.sk-estimator input.sk-toggleable__control:checked~label.sk-toggleable__label {background-color: #d4ebff;}#sk-container-id-6 div.sk-label input.sk-toggleable__control:checked~label.sk-toggleable__label {background-color: #d4ebff;}#sk-container-id-6 input.sk-hidden--visually {border: 0;clip: rect(1px 1px 1px 1px);clip: rect(1px, 1px, 1px, 1px);height: 1px;margin: -1px;overflow: hidden;padding: 0;position: absolute;width: 1px;}#sk-container-id-6 div.sk-estimator {font-family: monospace;background-color: #f0f8ff;border: 1px dotted black;border-radius: 0.25em;box-sizing: border-box;margin-bottom: 0.5em;}#sk-container-id-6 div.sk-estimator:hover {background-color: #d4ebff;}#sk-container-id-6 div.sk-parallel-item::after {content: \"\";width: 100%;border-bottom: 1px solid gray;flex-grow: 1;}#sk-container-id-6 div.sk-label:hover label.sk-toggleable__label {background-color: #d4ebff;}#sk-container-id-6 div.sk-serial::before {content: \"\";position: absolute;border-left: 1px solid gray;box-sizing: border-box;top: 0;bottom: 0;left: 50%;z-index: 0;}#sk-container-id-6 div.sk-serial {display: flex;flex-direction: column;align-items: center;background-color: white;padding-right: 0.2em;padding-left: 0.2em;position: relative;}#sk-container-id-6 div.sk-item {position: relative;z-index: 1;}#sk-container-id-6 div.sk-parallel {display: flex;align-items: stretch;justify-content: center;background-color: white;position: relative;}#sk-container-id-6 div.sk-item::before, #sk-container-id-6 div.sk-parallel-item::before {content: \"\";position: absolute;border-left: 1px solid gray;box-sizing: border-box;top: 0;bottom: 0;left: 50%;z-index: -1;}#sk-container-id-6 div.sk-parallel-item {display: flex;flex-direction: column;z-index: 1;position: relative;background-color: white;}#sk-container-id-6 div.sk-parallel-item:first-child::after {align-self: flex-end;width: 50%;}#sk-container-id-6 div.sk-parallel-item:last-child::after {align-self: flex-start;width: 50%;}#sk-container-id-6 div.sk-parallel-item:only-child::after {width: 0;}#sk-container-id-6 div.sk-dashed-wrapped {border: 1px dashed gray;margin: 0 0.4em 0.5em 0.4em;box-sizing: border-box;padding-bottom: 0.4em;background-color: white;}#sk-container-id-6 div.sk-label label {font-family: monospace;font-weight: bold;display: inline-block;line-height: 1.2em;}#sk-container-id-6 div.sk-label-container {text-align: center;}#sk-container-id-6 div.sk-container {/* jupyter's `normalize.less` sets `[hidden] { display: none; }` but bootstrap.min.css set `[hidden] { display: none !important; }` so we also need the `!important` here to be able to override the default hidden behavior on the sphinx rendered scikit-learn.org. See: https://github.com/scikit-learn/scikit-learn/issues/21755 */display: inline-block !important;position: relative;}#sk-container-id-6 div.sk-text-repr-fallback {display: none;}</style><div id=\"sk-container-id-6\" class=\"sk-top-container\"><div class=\"sk-text-repr-fallback\"><pre>MLPClassifier(max_iter=10000)</pre><b>In a Jupyter environment, please rerun this cell to show the HTML representation or trust the notebook. <br />On GitHub, the HTML representation is unable to render, please try loading this page with nbviewer.org.</b></div><div class=\"sk-container\" hidden><div class=\"sk-item\"><div class=\"sk-estimator sk-toggleable\"><input class=\"sk-toggleable__control sk-hidden--visually\" id=\"sk-estimator-id-6\" type=\"checkbox\" checked><label for=\"sk-estimator-id-6\" class=\"sk-toggleable__label sk-toggleable__label-arrow\">MLPClassifier</label><div class=\"sk-toggleable__content\"><pre>MLPClassifier(max_iter=10000)</pre></div></div></div></div></div>"
            ]
          },
          "metadata": {},
          "execution_count": 181
        }
      ]
    },
    {
      "cell_type": "code",
      "source": [
        "# Initialize MLPClassifier model with maximum iterations set to 10000\n",
        "mlp_max_iter_model_cat = MLPClassifier(max_iter=10000)\n",
        "\n",
        "# Train and fit the MLPClassifier model for category prediction\n",
        "mlp_max_iter_model_cat = train_fit(\"MLPClassifier\", mlp_max_iter_model_cat, X_train_cat, y_train_cat, X_test_cat, y_test_cat)\n",
        "\n",
        "# Initialize another MLPClassifier model with maximum iterations set to 10000 for subcategory prediction\n",
        "mlp_max_iter_model_subcat = MLPClassifier(max_iter=10000)\n",
        "\n",
        "# Train and fit the MLPClassifier model for subcategory prediction\n",
        "mlp_max_iter_model_subcat = train_fit(\"MLPClassifier\", mlp_max_iter_model_subcat, X_train_subcat, y_train_subcat, X_test_subcat, y_test_subcat)\n",
        "\n",
        "# Initialize another MLPClassifier model with maximum iterations set to 10000 for action prediction\n",
        "mlp_max_iter_model_action = MLPClassifier(max_iter=10000)\n",
        "\n",
        "# Train and fit the MLPClassifier model for action prediction\n",
        "mlp_max_iter_model_action = train_fit(\"MLPClassifier\", mlp_max_iter_model_action, X_train_action, y_train_action, X_test_action, y_test_action)"
      ],
      "metadata": {
        "id": "WLTb8ViPK5kc"
      },
      "execution_count": 182,
      "outputs": []
    },
    {
      "cell_type": "code",
      "source": [
        "# Calculate accuracy for category prediction\n",
        "accuracy_cat = mlp_max_iter_model_cat.score(X_test_cat, y_test_cat)\n",
        "print(\"Accuracy for category prediction:\", accuracy_cat)\n",
        "\n",
        "# Calculate accuracy for subcategory prediction\n",
        "accuracy_subcat = mlp_max_iter_model_subcat.score(X_test_subcat, y_test_subcat)\n",
        "print(\"Accuracy for subcategory prediction:\", accuracy_subcat)\n",
        "\n",
        "# Calculate accuracy for action prediction\n",
        "accuracy_action = mlp_max_iter_model_action.score(X_test_action, y_test_action)\n",
        "print(\"Accuracy for action prediction:\", accuracy_action)\n"
      ],
      "metadata": {
        "colab": {
          "base_uri": "https://localhost:8080/"
        },
        "id": "E3X4fNdPP-4Q",
        "outputId": "c896903a-0a76-407b-da2b-65b5f76361aa"
      },
      "execution_count": 183,
      "outputs": [
        {
          "output_type": "stream",
          "name": "stdout",
          "text": [
            "Accuracy for category prediction: 0.9096385542168675\n",
            "Accuracy for subcategory prediction: 0.8614457831325302\n",
            "Accuracy for action prediction: 0.8975903614457831\n"
          ]
        }
      ]
    },
    {
      "cell_type": "code",
      "source": [
        "def predict(model, classes, sentence):\n",
        "    y_preds = model.predict([sentence_vector(sentence)])\n",
        "    return classes[y_preds[0]]"
      ],
      "metadata": {
        "id": "spaQVz2h8oha"
      },
      "execution_count": 184,
      "outputs": []
    },
    {
      "cell_type": "code",
      "source": [
        "sentence = \"Turn the lights off in the kitchen.\"\n",
        "print(predict(mlp_max_iter_model, uniquecategories, sentence))\n",
        "print(predict(mlp_max_iter_model_subcat, uniquesubcategories, sentence))\n",
        "print(predict(mlp_max_iter_model_action, uniqueactions, sentence))"
      ],
      "metadata": {
        "colab": {
          "base_uri": "https://localhost:8080/"
        },
        "id": "UMXe1IO68y6K",
        "outputId": "06dbbbf2-8fda-4f64-ebb2-4b09728053f4"
      },
      "execution_count": 185,
      "outputs": [
        {
          "output_type": "stream",
          "name": "stdout",
          "text": [
            "lights\n",
            "kitchen\n",
            "off\n"
          ]
        }
      ]
    },
    {
      "cell_type": "code",
      "source": [
        "sentence = \"Turn on the light in the kitchen in 1 day..\"\n",
        "print(predict(mlp_max_iter_model, uniquecategories, sentence))\n",
        "print(predict(mlp_max_iter_model_subcat, uniquesubcategories, sentence))\n",
        "print(predict(mlp_max_iter_model_action, uniqueactions, sentence))"
      ],
      "metadata": {
        "colab": {
          "base_uri": "https://localhost:8080/"
        },
        "id": "2VE6ejBoaj3a",
        "outputId": "04def54d-55da-4021-94a8-d816055de506"
      },
      "execution_count": 186,
      "outputs": [
        {
          "output_type": "stream",
          "name": "stdout",
          "text": [
            "lights\n",
            "kitchen\n",
            "on\n"
          ]
        }
      ]
    },
    {
      "cell_type": "code",
      "source": [
        "sentence = \"Close the garage door.\"\n",
        "print(predict(mlp_max_iter_model, uniquecategories, sentence))\n",
        "print(predict(mlp_max_iter_model_subcat, uniquesubcategories, sentence))\n",
        "print(predict(mlp_max_iter_model_action, uniqueactions, sentence))"
      ],
      "metadata": {
        "colab": {
          "base_uri": "https://localhost:8080/"
        },
        "id": "JXHfJYx5ikCK",
        "outputId": "dfe82429-13cd-4865-880f-75d8a6deb553"
      },
      "execution_count": 187,
      "outputs": [
        {
          "output_type": "stream",
          "name": "stdout",
          "text": [
            "garagedoor\n",
            "garage\n",
            "down\n"
          ]
        }
      ]
    }
  ]
}