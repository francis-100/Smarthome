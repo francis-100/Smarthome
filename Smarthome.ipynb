{
  "cells": [
    {
      "cell_type": "code",
      "execution_count": 3,
      "metadata": {
        "colab": {
          "base_uri": "https://localhost:8080/"
        },
        "id": "WqkCR8gp270q",
        "outputId": "066ddf83-07cb-4fa7-817a-e46a70bc1fb5"
      },
      "outputs": [
        {
          "ename": "ModuleNotFoundError",
          "evalue": "No module named 'seaborn'",
          "output_type": "error",
          "traceback": [
            "\u001b[0;31m---------------------------------------------------------------------------\u001b[0m",
            "\u001b[0;31mModuleNotFoundError\u001b[0m                       Traceback (most recent call last)",
            "Cell \u001b[0;32mIn[3], line 3\u001b[0m\n\u001b[1;32m      1\u001b[0m \u001b[38;5;28;01mimport\u001b[39;00m \u001b[38;5;21;01mnumpy\u001b[39;00m \u001b[38;5;28;01mas\u001b[39;00m \u001b[38;5;21;01mnp\u001b[39;00m\n\u001b[1;32m      2\u001b[0m \u001b[38;5;28;01mimport\u001b[39;00m \u001b[38;5;21;01mpandas\u001b[39;00m \u001b[38;5;28;01mas\u001b[39;00m \u001b[38;5;21;01mpd\u001b[39;00m\n\u001b[0;32m----> 3\u001b[0m \u001b[38;5;28;01mimport\u001b[39;00m \u001b[38;5;21;01mseaborn\u001b[39;00m \u001b[38;5;28;01mas\u001b[39;00m \u001b[38;5;21;01msns\u001b[39;00m\n\u001b[1;32m      4\u001b[0m \u001b[38;5;28;01mimport\u001b[39;00m \u001b[38;5;21;01mmatplotlib\u001b[39;00m\u001b[38;5;21;01m.\u001b[39;00m\u001b[38;5;21;01mpyplot\u001b[39;00m \u001b[38;5;28;01mas\u001b[39;00m \u001b[38;5;21;01mplt\u001b[39;00m\n\u001b[1;32m      5\u001b[0m \u001b[38;5;28;01mimport\u001b[39;00m \u001b[38;5;21;01mnltk\u001b[39;00m\n",
            "\u001b[0;31mModuleNotFoundError\u001b[0m: No module named 'seaborn'"
          ]
        }
      ],
      "source": [
        "import numpy as np\n",
        "import pandas as pd\n",
        "import seaborn as sns\n",
        "import matplotlib.pyplot as plt\n",
        "import nltk\n",
        "\n",
        "# Download the 'punkt' resource\n",
        "nltk.download('punkt')\n",
        "%matplotlib inline"
      ]
    },
    {
      "cell_type": "code",
      "execution_count": null,
      "metadata": {
        "id": "_30airCC5d62"
      },
      "outputs": [],
      "source": [
        "df = pd.read_csv(\"smarthome.csv\")"
      ]
    },
    {
      "cell_type": "code",
      "execution_count": null,
      "metadata": {
        "colab": {
          "base_uri": "https://localhost:8080/",
          "height": 701
        },
        "id": "6cCW2ZhL6Bdk",
        "outputId": "f937b1e6-070f-42b2-ae0c-a54e1201781f"
      },
      "outputs": [
        {
          "data": {
            "application/vnd.google.colaboratory.intrinsic+json": {
              "summary": "{\n  \"name\": \"df\",\n  \"rows\": 663,\n  \"fields\": [\n    {\n      \"column\": \"Category\",\n      \"properties\": {\n        \"dtype\": \"category\",\n        \"num_unique_values\": 13,\n        \"samples\": [\n          \"coffeemachine\",\n          \"toaster\",\n          \"lights\"\n        ],\n        \"semantic_type\": \"\",\n        \"description\": \"\"\n      }\n    },\n    {\n      \"column\": \"Action_needed\",\n      \"properties\": {\n        \"dtype\": \"number\",\n        \"std\": 0,\n        \"min\": 0,\n        \"max\": 1,\n        \"num_unique_values\": 2,\n        \"samples\": [\n          0,\n          1\n        ],\n        \"semantic_type\": \"\",\n        \"description\": \"\"\n      }\n    },\n    {\n      \"column\": \"Question\",\n      \"properties\": {\n        \"dtype\": \"number\",\n        \"std\": 0,\n        \"min\": 0,\n        \"max\": 1,\n        \"num_unique_values\": 2,\n        \"samples\": [\n          1,\n          0\n        ],\n        \"semantic_type\": \"\",\n        \"description\": \"\"\n      }\n    },\n    {\n      \"column\": \"Subcategory\",\n      \"properties\": {\n        \"dtype\": \"category\",\n        \"num_unique_values\": 18,\n        \"samples\": [\n          \"kitchen\",\n          \"diningroom\"\n        ],\n        \"semantic_type\": \"\",\n        \"description\": \"\"\n      }\n    },\n    {\n      \"column\": \"Action\",\n      \"properties\": {\n        \"dtype\": \"category\",\n        \"num_unique_values\": 6,\n        \"samples\": [\n          \"on\",\n          \"none\"\n        ],\n        \"semantic_type\": \"\",\n        \"description\": \"\"\n      }\n    },\n    {\n      \"column\": \"Time\",\n      \"properties\": {\n        \"dtype\": \"category\",\n        \"num_unique_values\": 11,\n        \"samples\": [\n          \"minute\",\n          \"today\"\n        ],\n        \"semantic_type\": \"\",\n        \"description\": \"\"\n      }\n    },\n    {\n      \"column\": \"Sentence\",\n      \"properties\": {\n        \"dtype\": \"string\",\n        \"num_unique_values\": 645,\n        \"samples\": [\n          \"Turn off the coffeemachine when the coffee is done.\",\n          \"Shut down the garage door in 21 minutes for me.\"\n        ],\n        \"semantic_type\": \"\",\n        \"description\": \"\"\n      }\n    }\n  ]\n}",
              "type": "dataframe",
              "variable_name": "df"
            },
            "text/html": [
              "\n",
              "  <div id=\"df-904ee22a-5b2d-4772-988c-c6eb34cd5d8b\" class=\"colab-df-container\">\n",
              "    <div>\n",
              "<style scoped>\n",
              "    .dataframe tbody tr th:only-of-type {\n",
              "        vertical-align: middle;\n",
              "    }\n",
              "\n",
              "    .dataframe tbody tr th {\n",
              "        vertical-align: top;\n",
              "    }\n",
              "\n",
              "    .dataframe thead th {\n",
              "        text-align: right;\n",
              "    }\n",
              "</style>\n",
              "<table border=\"1\" class=\"dataframe\">\n",
              "  <thead>\n",
              "    <tr style=\"text-align: right;\">\n",
              "      <th></th>\n",
              "      <th>Category</th>\n",
              "      <th>Action_needed</th>\n",
              "      <th>Question</th>\n",
              "      <th>Subcategory</th>\n",
              "      <th>Action</th>\n",
              "      <th>Time</th>\n",
              "      <th>Sentence</th>\n",
              "    </tr>\n",
              "  </thead>\n",
              "  <tbody>\n",
              "    <tr>\n",
              "      <th>0</th>\n",
              "      <td>lights</td>\n",
              "      <td>1</td>\n",
              "      <td>0</td>\n",
              "      <td>kitchen</td>\n",
              "      <td>on</td>\n",
              "      <td>today</td>\n",
              "      <td>Illuminate the kitchen today.</td>\n",
              "    </tr>\n",
              "    <tr>\n",
              "      <th>1</th>\n",
              "      <td>lights</td>\n",
              "      <td>1</td>\n",
              "      <td>0</td>\n",
              "      <td>kitchen</td>\n",
              "      <td>on</td>\n",
              "      <td>tomorrow</td>\n",
              "      <td>Illuminate the kitchen tomorrow.</td>\n",
              "    </tr>\n",
              "    <tr>\n",
              "      <th>2</th>\n",
              "      <td>lights</td>\n",
              "      <td>1</td>\n",
              "      <td>0</td>\n",
              "      <td>kitchen</td>\n",
              "      <td>on</td>\n",
              "      <td>hour</td>\n",
              "      <td>Turn on the light in the kitchen in 10 hours.</td>\n",
              "    </tr>\n",
              "    <tr>\n",
              "      <th>3</th>\n",
              "      <td>lights</td>\n",
              "      <td>1</td>\n",
              "      <td>0</td>\n",
              "      <td>kitchen</td>\n",
              "      <td>on</td>\n",
              "      <td>day</td>\n",
              "      <td>Turn on the light in the kitchen in 1 day.</td>\n",
              "    </tr>\n",
              "    <tr>\n",
              "      <th>4</th>\n",
              "      <td>lights</td>\n",
              "      <td>1</td>\n",
              "      <td>0</td>\n",
              "      <td>diningroom</td>\n",
              "      <td>on</td>\n",
              "      <td>today</td>\n",
              "      <td>Illuminate the dining room today.</td>\n",
              "    </tr>\n",
              "    <tr>\n",
              "      <th>...</th>\n",
              "      <td>...</td>\n",
              "      <td>...</td>\n",
              "      <td>...</td>\n",
              "      <td>...</td>\n",
              "      <td>...</td>\n",
              "      <td>...</td>\n",
              "      <td>...</td>\n",
              "    </tr>\n",
              "    <tr>\n",
              "      <th>658</th>\n",
              "      <td>time</td>\n",
              "      <td>0</td>\n",
              "      <td>0</td>\n",
              "      <td>none</td>\n",
              "      <td>none</td>\n",
              "      <td>now</td>\n",
              "      <td>Time.</td>\n",
              "    </tr>\n",
              "    <tr>\n",
              "      <th>659</th>\n",
              "      <td>time</td>\n",
              "      <td>0</td>\n",
              "      <td>0</td>\n",
              "      <td>none</td>\n",
              "      <td>none</td>\n",
              "      <td>now</td>\n",
              "      <td>I don't want you to tell me the time.</td>\n",
              "    </tr>\n",
              "    <tr>\n",
              "      <th>660</th>\n",
              "      <td>time</td>\n",
              "      <td>1</td>\n",
              "      <td>0</td>\n",
              "      <td>none</td>\n",
              "      <td>none</td>\n",
              "      <td>hour</td>\n",
              "      <td>Tell me the time in an hour.</td>\n",
              "    </tr>\n",
              "    <tr>\n",
              "      <th>661</th>\n",
              "      <td>time</td>\n",
              "      <td>1</td>\n",
              "      <td>0</td>\n",
              "      <td>none</td>\n",
              "      <td>none</td>\n",
              "      <td>day</td>\n",
              "      <td>Tell me the time in a day.</td>\n",
              "    </tr>\n",
              "    <tr>\n",
              "      <th>662</th>\n",
              "      <td>time</td>\n",
              "      <td>1</td>\n",
              "      <td>0</td>\n",
              "      <td>none</td>\n",
              "      <td>none</td>\n",
              "      <td>now</td>\n",
              "      <td>What does te clock say?</td>\n",
              "    </tr>\n",
              "  </tbody>\n",
              "</table>\n",
              "<p>663 rows × 7 columns</p>\n",
              "</div>\n",
              "    <div class=\"colab-df-buttons\">\n",
              "\n",
              "  <div class=\"colab-df-container\">\n",
              "    <button class=\"colab-df-convert\" onclick=\"convertToInteractive('df-904ee22a-5b2d-4772-988c-c6eb34cd5d8b')\"\n",
              "            title=\"Convert this dataframe to an interactive table.\"\n",
              "            style=\"display:none;\">\n",
              "\n",
              "  <svg xmlns=\"http://www.w3.org/2000/svg\" height=\"24px\" viewBox=\"0 -960 960 960\">\n",
              "    <path d=\"M120-120v-720h720v720H120Zm60-500h600v-160H180v160Zm220 220h160v-160H400v160Zm0 220h160v-160H400v160ZM180-400h160v-160H180v160Zm440 0h160v-160H620v160ZM180-180h160v-160H180v160Zm440 0h160v-160H620v160Z\"/>\n",
              "  </svg>\n",
              "    </button>\n",
              "\n",
              "  <style>\n",
              "    .colab-df-container {\n",
              "      display:flex;\n",
              "      gap: 12px;\n",
              "    }\n",
              "\n",
              "    .colab-df-convert {\n",
              "      background-color: #E8F0FE;\n",
              "      border: none;\n",
              "      border-radius: 50%;\n",
              "      cursor: pointer;\n",
              "      display: none;\n",
              "      fill: #1967D2;\n",
              "      height: 32px;\n",
              "      padding: 0 0 0 0;\n",
              "      width: 32px;\n",
              "    }\n",
              "\n",
              "    .colab-df-convert:hover {\n",
              "      background-color: #E2EBFA;\n",
              "      box-shadow: 0px 1px 2px rgba(60, 64, 67, 0.3), 0px 1px 3px 1px rgba(60, 64, 67, 0.15);\n",
              "      fill: #174EA6;\n",
              "    }\n",
              "\n",
              "    .colab-df-buttons div {\n",
              "      margin-bottom: 4px;\n",
              "    }\n",
              "\n",
              "    [theme=dark] .colab-df-convert {\n",
              "      background-color: #3B4455;\n",
              "      fill: #D2E3FC;\n",
              "    }\n",
              "\n",
              "    [theme=dark] .colab-df-convert:hover {\n",
              "      background-color: #434B5C;\n",
              "      box-shadow: 0px 1px 3px 1px rgba(0, 0, 0, 0.15);\n",
              "      filter: drop-shadow(0px 1px 2px rgba(0, 0, 0, 0.3));\n",
              "      fill: #FFFFFF;\n",
              "    }\n",
              "  </style>\n",
              "\n",
              "    <script>\n",
              "      const buttonEl =\n",
              "        document.querySelector('#df-904ee22a-5b2d-4772-988c-c6eb34cd5d8b button.colab-df-convert');\n",
              "      buttonEl.style.display =\n",
              "        google.colab.kernel.accessAllowed ? 'block' : 'none';\n",
              "\n",
              "      async function convertToInteractive(key) {\n",
              "        const element = document.querySelector('#df-904ee22a-5b2d-4772-988c-c6eb34cd5d8b');\n",
              "        const dataTable =\n",
              "          await google.colab.kernel.invokeFunction('convertToInteractive',\n",
              "                                                    [key], {});\n",
              "        if (!dataTable) return;\n",
              "\n",
              "        const docLinkHtml = 'Like what you see? Visit the ' +\n",
              "          '<a target=\"_blank\" href=https://colab.research.google.com/notebooks/data_table.ipynb>data table notebook</a>'\n",
              "          + ' to learn more about interactive tables.';\n",
              "        element.innerHTML = '';\n",
              "        dataTable['output_type'] = 'display_data';\n",
              "        await google.colab.output.renderOutput(dataTable, element);\n",
              "        const docLink = document.createElement('div');\n",
              "        docLink.innerHTML = docLinkHtml;\n",
              "        element.appendChild(docLink);\n",
              "      }\n",
              "    </script>\n",
              "  </div>\n",
              "\n",
              "\n",
              "<div id=\"df-7c16684a-c08c-4492-ad1e-fab9a9505fb0\">\n",
              "  <button class=\"colab-df-quickchart\" onclick=\"quickchart('df-7c16684a-c08c-4492-ad1e-fab9a9505fb0')\"\n",
              "            title=\"Suggest charts\"\n",
              "            style=\"display:none;\">\n",
              "\n",
              "<svg xmlns=\"http://www.w3.org/2000/svg\" height=\"24px\"viewBox=\"0 0 24 24\"\n",
              "     width=\"24px\">\n",
              "    <g>\n",
              "        <path d=\"M19 3H5c-1.1 0-2 .9-2 2v14c0 1.1.9 2 2 2h14c1.1 0 2-.9 2-2V5c0-1.1-.9-2-2-2zM9 17H7v-7h2v7zm4 0h-2V7h2v10zm4 0h-2v-4h2v4z\"/>\n",
              "    </g>\n",
              "</svg>\n",
              "  </button>\n",
              "\n",
              "<style>\n",
              "  .colab-df-quickchart {\n",
              "      --bg-color: #E8F0FE;\n",
              "      --fill-color: #1967D2;\n",
              "      --hover-bg-color: #E2EBFA;\n",
              "      --hover-fill-color: #174EA6;\n",
              "      --disabled-fill-color: #AAA;\n",
              "      --disabled-bg-color: #DDD;\n",
              "  }\n",
              "\n",
              "  [theme=dark] .colab-df-quickchart {\n",
              "      --bg-color: #3B4455;\n",
              "      --fill-color: #D2E3FC;\n",
              "      --hover-bg-color: #434B5C;\n",
              "      --hover-fill-color: #FFFFFF;\n",
              "      --disabled-bg-color: #3B4455;\n",
              "      --disabled-fill-color: #666;\n",
              "  }\n",
              "\n",
              "  .colab-df-quickchart {\n",
              "    background-color: var(--bg-color);\n",
              "    border: none;\n",
              "    border-radius: 50%;\n",
              "    cursor: pointer;\n",
              "    display: none;\n",
              "    fill: var(--fill-color);\n",
              "    height: 32px;\n",
              "    padding: 0;\n",
              "    width: 32px;\n",
              "  }\n",
              "\n",
              "  .colab-df-quickchart:hover {\n",
              "    background-color: var(--hover-bg-color);\n",
              "    box-shadow: 0 1px 2px rgba(60, 64, 67, 0.3), 0 1px 3px 1px rgba(60, 64, 67, 0.15);\n",
              "    fill: var(--button-hover-fill-color);\n",
              "  }\n",
              "\n",
              "  .colab-df-quickchart-complete:disabled,\n",
              "  .colab-df-quickchart-complete:disabled:hover {\n",
              "    background-color: var(--disabled-bg-color);\n",
              "    fill: var(--disabled-fill-color);\n",
              "    box-shadow: none;\n",
              "  }\n",
              "\n",
              "  .colab-df-spinner {\n",
              "    border: 2px solid var(--fill-color);\n",
              "    border-color: transparent;\n",
              "    border-bottom-color: var(--fill-color);\n",
              "    animation:\n",
              "      spin 1s steps(1) infinite;\n",
              "  }\n",
              "\n",
              "  @keyframes spin {\n",
              "    0% {\n",
              "      border-color: transparent;\n",
              "      border-bottom-color: var(--fill-color);\n",
              "      border-left-color: var(--fill-color);\n",
              "    }\n",
              "    20% {\n",
              "      border-color: transparent;\n",
              "      border-left-color: var(--fill-color);\n",
              "      border-top-color: var(--fill-color);\n",
              "    }\n",
              "    30% {\n",
              "      border-color: transparent;\n",
              "      border-left-color: var(--fill-color);\n",
              "      border-top-color: var(--fill-color);\n",
              "      border-right-color: var(--fill-color);\n",
              "    }\n",
              "    40% {\n",
              "      border-color: transparent;\n",
              "      border-right-color: var(--fill-color);\n",
              "      border-top-color: var(--fill-color);\n",
              "    }\n",
              "    60% {\n",
              "      border-color: transparent;\n",
              "      border-right-color: var(--fill-color);\n",
              "    }\n",
              "    80% {\n",
              "      border-color: transparent;\n",
              "      border-right-color: var(--fill-color);\n",
              "      border-bottom-color: var(--fill-color);\n",
              "    }\n",
              "    90% {\n",
              "      border-color: transparent;\n",
              "      border-bottom-color: var(--fill-color);\n",
              "    }\n",
              "  }\n",
              "</style>\n",
              "\n",
              "  <script>\n",
              "    async function quickchart(key) {\n",
              "      const quickchartButtonEl =\n",
              "        document.querySelector('#' + key + ' button');\n",
              "      quickchartButtonEl.disabled = true;  // To prevent multiple clicks.\n",
              "      quickchartButtonEl.classList.add('colab-df-spinner');\n",
              "      try {\n",
              "        const charts = await google.colab.kernel.invokeFunction(\n",
              "            'suggestCharts', [key], {});\n",
              "      } catch (error) {\n",
              "        console.error('Error during call to suggestCharts:', error);\n",
              "      }\n",
              "      quickchartButtonEl.classList.remove('colab-df-spinner');\n",
              "      quickchartButtonEl.classList.add('colab-df-quickchart-complete');\n",
              "    }\n",
              "    (() => {\n",
              "      let quickchartButtonEl =\n",
              "        document.querySelector('#df-7c16684a-c08c-4492-ad1e-fab9a9505fb0 button');\n",
              "      quickchartButtonEl.style.display =\n",
              "        google.colab.kernel.accessAllowed ? 'block' : 'none';\n",
              "    })();\n",
              "  </script>\n",
              "</div>\n",
              "\n",
              "  <div id=\"id_d2f2c9e5-2d17-4a9e-a1b5-dfd458722cae\">\n",
              "    <style>\n",
              "      .colab-df-generate {\n",
              "        background-color: #E8F0FE;\n",
              "        border: none;\n",
              "        border-radius: 50%;\n",
              "        cursor: pointer;\n",
              "        display: none;\n",
              "        fill: #1967D2;\n",
              "        height: 32px;\n",
              "        padding: 0 0 0 0;\n",
              "        width: 32px;\n",
              "      }\n",
              "\n",
              "      .colab-df-generate:hover {\n",
              "        background-color: #E2EBFA;\n",
              "        box-shadow: 0px 1px 2px rgba(60, 64, 67, 0.3), 0px 1px 3px 1px rgba(60, 64, 67, 0.15);\n",
              "        fill: #174EA6;\n",
              "      }\n",
              "\n",
              "      [theme=dark] .colab-df-generate {\n",
              "        background-color: #3B4455;\n",
              "        fill: #D2E3FC;\n",
              "      }\n",
              "\n",
              "      [theme=dark] .colab-df-generate:hover {\n",
              "        background-color: #434B5C;\n",
              "        box-shadow: 0px 1px 3px 1px rgba(0, 0, 0, 0.15);\n",
              "        filter: drop-shadow(0px 1px 2px rgba(0, 0, 0, 0.3));\n",
              "        fill: #FFFFFF;\n",
              "      }\n",
              "    </style>\n",
              "    <button class=\"colab-df-generate\" onclick=\"generateWithVariable('df')\"\n",
              "            title=\"Generate code using this dataframe.\"\n",
              "            style=\"display:none;\">\n",
              "\n",
              "  <svg xmlns=\"http://www.w3.org/2000/svg\" height=\"24px\"viewBox=\"0 0 24 24\"\n",
              "       width=\"24px\">\n",
              "    <path d=\"M7,19H8.4L18.45,9,17,7.55,7,17.6ZM5,21V16.75L18.45,3.32a2,2,0,0,1,2.83,0l1.4,1.43a1.91,1.91,0,0,1,.58,1.4,1.91,1.91,0,0,1-.58,1.4L9.25,21ZM18.45,9,17,7.55Zm-12,3A5.31,5.31,0,0,0,4.9,8.1,5.31,5.31,0,0,0,1,6.5,5.31,5.31,0,0,0,4.9,4.9,5.31,5.31,0,0,0,6.5,1,5.31,5.31,0,0,0,8.1,4.9,5.31,5.31,0,0,0,12,6.5,5.46,5.46,0,0,0,6.5,12Z\"/>\n",
              "  </svg>\n",
              "    </button>\n",
              "    <script>\n",
              "      (() => {\n",
              "      const buttonEl =\n",
              "        document.querySelector('#id_d2f2c9e5-2d17-4a9e-a1b5-dfd458722cae button.colab-df-generate');\n",
              "      buttonEl.style.display =\n",
              "        google.colab.kernel.accessAllowed ? 'block' : 'none';\n",
              "\n",
              "      buttonEl.onclick = () => {\n",
              "        google.colab.notebook.generateWithVariable('df');\n",
              "      }\n",
              "      })();\n",
              "    </script>\n",
              "  </div>\n",
              "\n",
              "    </div>\n",
              "  </div>\n"
            ],
            "text/plain": [
              "    Category  Action_needed  Question Subcategory Action      Time  \\\n",
              "0     lights              1         0     kitchen     on     today   \n",
              "1     lights              1         0     kitchen     on  tomorrow   \n",
              "2     lights              1         0     kitchen     on      hour   \n",
              "3     lights              1         0     kitchen     on       day   \n",
              "4     lights              1         0  diningroom     on     today   \n",
              "..       ...            ...       ...         ...    ...       ...   \n",
              "658     time              0         0        none   none       now   \n",
              "659     time              0         0        none   none       now   \n",
              "660     time              1         0        none   none      hour   \n",
              "661     time              1         0        none   none       day   \n",
              "662     time              1         0        none   none       now   \n",
              "\n",
              "                                          Sentence  \n",
              "0                    Illuminate the kitchen today.  \n",
              "1                 Illuminate the kitchen tomorrow.  \n",
              "2    Turn on the light in the kitchen in 10 hours.  \n",
              "3       Turn on the light in the kitchen in 1 day.  \n",
              "4                Illuminate the dining room today.  \n",
              "..                                             ...  \n",
              "658                                          Time.  \n",
              "659          I don't want you to tell me the time.  \n",
              "660                   Tell me the time in an hour.  \n",
              "661                     Tell me the time in a day.  \n",
              "662                        What does te clock say?  \n",
              "\n",
              "[663 rows x 7 columns]"
            ]
          },
          "execution_count": 132,
          "metadata": {},
          "output_type": "execute_result"
        }
      ],
      "source": [
        "del df[\"Number\"]\n",
        "df"
      ]
    },
    {
      "cell_type": "code",
      "execution_count": null,
      "metadata": {
        "id": "iTUZW5QCjVo2"
      },
      "outputs": [],
      "source": []
    },
    {
      "cell_type": "code",
      "execution_count": null,
      "metadata": {
        "colab": {
          "base_uri": "https://localhost:8080/"
        },
        "id": "8Z7xxf4e6I6-",
        "outputId": "77b2845b-26f1-4617-9631-e8f0c55ea15b"
      },
      "outputs": [
        {
          "name": "stdout",
          "output_type": "stream",
          "text": [
            "<class 'pandas.core.frame.DataFrame'>\n",
            "RangeIndex: 663 entries, 0 to 662\n",
            "Data columns (total 7 columns):\n",
            " #   Column         Non-Null Count  Dtype \n",
            "---  ------         --------------  ----- \n",
            " 0   Category       663 non-null    object\n",
            " 1   Action_needed  663 non-null    int64 \n",
            " 2   Question       663 non-null    int64 \n",
            " 3   Subcategory    663 non-null    object\n",
            " 4   Action         663 non-null    object\n",
            " 5   Time           663 non-null    object\n",
            " 6   Sentence       663 non-null    object\n",
            "dtypes: int64(2), object(5)\n",
            "memory usage: 36.4+ KB\n"
          ]
        }
      ],
      "source": [
        "df.info()"
      ]
    },
    {
      "cell_type": "code",
      "execution_count": null,
      "metadata": {
        "id": "1GcbdFT0619S"
      },
      "outputs": [],
      "source": [
        "from nltk import word_tokenize\n",
        "import itertools\n",
        "import math"
      ]
    },
    {
      "cell_type": "code",
      "execution_count": null,
      "metadata": {
        "colab": {
          "base_uri": "https://localhost:8080/"
        },
        "id": "OoRTmBgg7Qw3",
        "outputId": "07df0f82-0654-4457-fadc-6bdcb381a1de"
      },
      "outputs": [
        {
          "name": "stdout",
          "output_type": "stream",
          "text": [
            "['time', 'six', 'which', 'first', 'put', 'north', 'leuven', 'tallest', 'species', 'dinin', 'freezing', 'busses', 'info', 'so', 'next', 'for', 'installed', 'humidity', 'shine', 'minutes', 'bus', 'cloudy', 'few', 'cofeemachine', 'on', 'viewer', 'i', 'greece', 'activity', 'music', 'get', 'centigrade', 'one', 'attic', 'mallorca', 'sick', 'coming', 'viewing', 'myplace', 'up', 'leave', 'strange', 'when', 'possible', 'two', 'bathroom', 'day', 'the', 'long', 'house', 'mouth', 'water', 'mean', 'hail', 'getting', 'cut', 'out', 'car', 'week', 'ten', '8', 'could', 'strangers', 'running', 'readings', 'responds', 'ca', 'falls', 'please', 'or', 'over', 'sensors', 'tomorrow', 'who', \"'re\", 'degrees', 'sandler', 'bored', 'many', 'unusual', 'operation', 'storming', 'bike', 'hit', 'app', 'something', 'alone', 'september', 'drowning', 'spain', 'dining', 'google', 'machine', 'minute', '.', 'make', 'great', 'locationtracker', 'anymore', 'down', 'is', \"'s\", 'a', 'basement', 'movies', 'hours', 'bright', 'nearest', 'lighten', 'humans', 'freezes', 'special', '45', 'malfunctions', 'door', 'know', 'with', 'premier', 'democrat', '20', 'hasselt', 'already', 'device', 'balen', 'recording', 'cellar', 'from', 'tell', 'was', 'use', 'am', 'were', 'should', 'drug', 'refrigerator', 'today', 'raise', 'closest', 'want', 'ride', 'rises', '21', 'trains', 'oven', 'do', 'made', 'show', 'sure', '6', 'transport', 'cats', 'your', 'higher', 'window', '!', 'an', 'maps', 'coffee', 'now', 'warm', 'favor', 'some', '112', 'players', 'give', 'lower', 'living', 'rain', 'shining', '0', 'that', 'universe', 'celsius', 'feel', 'stop', 'far', 'clouds', '43', 'station', 'toilet', 'freeze', 'did', 'train', '2', 'antwerpen', 'direction', 'justin', 'wake', 'trench', 'keep', 'eighteen', 'help', 'currently', 'be', 'antwerp', 'facebook', 'there', 'information', 'crete', 'islands', \"n't\", 'flicker', 'certain', 'person', 'temperature', 'weed', 'considered', 'gets', 'animals', '4', 'mad', 'bieber', 'toaster', 'depart', 'appliance', 'continent', 'league', 'location', 'te', 'electricity', '5', 'fourteen', '11', 'climbs', 'enlighten', 'question', 'doing', 'malidives', 'kitchen', 'religions', 'sixteen', '50', 'brussels', 'random', 'tonight', 'before', 'averaged', 'month', 'light', 'this', 'hot', 'let', 'blinding', 'system', 'live', 'off', 'home', 'later', 'sun', 'tall', 'it', 'backyard', 'reading', 'see', 'what', 'ready', 'any', 'brighter', 'motion', 'shut', \"'d\", 'weeks', 'tot', 'human', 'say', 'and', 'pixels', 'here', 'right', 'my', 'adam', 'fog', 'wet', 'not', 'heating', 'capital', 'letting', 'directions', 'things', 'nothing', 'lot', 'fahrenheit', 'between', 'done', 'been', 'toast', 'less', 'why', 'shooting', '1', 'lights', 'amount', 'without', 'above', 'find', 'rooms', 'can', 'me', 'we', 'yesterday', 'library', 'foggy', 'public', 'hour', 'feelings', 'more', 'update', 'trump', 'turn', 'has', 'to', 'control', 'play', 'are', 'will', 'close', 'you', 'sad', 'coffeemachine', 'past', '85', 'exist', 'meaning', 'room', 'shutters', 'at', 'of', 'way', 'diningroom', 'illuminate', 'donald', 'power', 'facing', 'departure', 'ok', 'outdoor', 'october', 'where', 'all', 'republican', 'weather', 'stupid', 'like', 'in', '7', 'other', 'cold', 'little', 'written', 'lately', 'gradually', '3', 'movement', 'alive', 'skies', 'happy', 'earth', 'language', 'camera', 'sensor', 'dark', 'too', '15', 'move', 'anything', 'relay', '10', 'would', 'appear', 'days', 'deepest', 'think', 'oceans', 'go', 'internet', 'colder', 'outside', 'travel', 'flow', 'hard', 'going', '?', 'dinosaurs', 'mountain', 'dogs', 'garage', 'about', 'below', 'life', 'shown', 'place', 'have', 'belgium', 'cameras', 'animal', 'hailing', 'if', 'does', 'own', 'how', 'clock', 'delays', 'open', 'potatoes']\n"
          ]
        }
      ],
      "source": [
        "# Extract unique words from the DataFrame's 'Sentence' column\n",
        "# and then print out the resulting vocabulary.\n",
        "\n",
        "sentences = df['Sentence']\n",
        "categories = df['Category']\n",
        "subcategories = df['Subcategory']\n",
        "actions = df['Action']\n",
        "\n",
        "uniquecategories = list(set(categories))\n",
        "uniquesubcategories = list(set(subcategories))\n",
        "uniqueactions = list(set(actions))\n",
        "\n",
        "mergesentences = list(itertools.chain.from_iterable([word_tokenize(sentence.lower()) for sentence in sentences]))\n",
        "vocabulary = list(set(mergesentences))\n",
        "print(vocabulary)"
      ]
    },
    {
      "cell_type": "code",
      "execution_count": null,
      "metadata": {
        "id": "Hk-va_Ai7VGy"
      },
      "outputs": [],
      "source": [
        "# calculate word frequency in a sentence\n",
        "def term_frequency(word, sentence):\n",
        "    return sentence.split().count(word)"
      ]
    },
    {
      "cell_type": "code",
      "execution_count": null,
      "metadata": {
        "id": "o1uJlExT7aMm"
      },
      "outputs": [],
      "source": [
        "# calculate word frequency in vocabulary\n",
        "def document_frequency(word):\n",
        "    return vocabulary.count(word)"
      ]
    },
    {
      "cell_type": "code",
      "execution_count": null,
      "metadata": {
        "id": "ffkRU8zq7ajf"
      },
      "outputs": [],
      "source": [
        "# lower weight for unimportant words\n",
        "def inverse_document_frequency(word):\n",
        "    return math.log(len(vocabulary) / (document_frequency(word) + 1))"
      ]
    },
    {
      "cell_type": "code",
      "execution_count": null,
      "metadata": {
        "id": "mqgRIWRE7g5v"
      },
      "outputs": [],
      "source": [
        "# get term frequency inverse document frequency value\n",
        "def calculate_tfidf(word, sentence):\n",
        "    return term_frequency(word, sentence) * inverse_document_frequency(word)"
      ]
    },
    {
      "cell_type": "code",
      "execution_count": null,
      "metadata": {
        "id": "3p8MwyHE7jx2"
      },
      "outputs": [],
      "source": [
        "# get one-hot encoded vectors for the targets\n",
        "def one_hot_class_vector(uniqueclasses, w):\n",
        "    emptyvector = [0 for i in range(len(uniqueclasses))]\n",
        "    emptyvector[uniqueclasses.index(w)] = 1\n",
        "    return emptyvector"
      ]
    },
    {
      "cell_type": "code",
      "execution_count": null,
      "metadata": {
        "id": "Cl7smXG77m4f"
      },
      "outputs": [],
      "source": [
        "# get one-hot encoded vectors for the words\n",
        "def one_hot_vector(w):\n",
        "    emptyvector = [0 for i in range(len(vocabulary))]\n",
        "    emptyvector[vocabulary.index(w)] = 1\n",
        "    return emptyvector"
      ]
    },
    {
      "cell_type": "code",
      "execution_count": null,
      "metadata": {
        "id": "VJTNdyXs7rMg"
      },
      "outputs": [],
      "source": [
        "# get one-hot encdoded sentence vector\n",
        "def sentence_vector(sentence, tfidf=False):\n",
        "    tokenizedlist = word_tokenize(sentence.lower())\n",
        "    sentencevector = [0 for i in range(len(vocabulary))]\n",
        "    count = 0\n",
        "\n",
        "    for word in tokenizedlist:\n",
        "        if word in vocabulary:\n",
        "            count = count + 1\n",
        "            if tfidf:\n",
        "                sentencevector = [x + y for x, y in zip(sentencevector, [e * calculate_tfidf(word, sentence) for e in one_hot_vector(word)])]\n",
        "            else:\n",
        "                sentencevector = [x + y for x, y in zip(sentencevector, one_hot_vector(word))]\n",
        "\n",
        "    if count == 0:\n",
        "        return sentencevector\n",
        "    else:\n",
        "        return [(el / count) for el in sentencevector]"
      ]
    },
    {
      "cell_type": "code",
      "execution_count": null,
      "metadata": {
        "id": "9YME6YEg7rAB"
      },
      "outputs": [],
      "source": [
        "# wordvectors = [one_hot_vector(w) for w in vocabulary]\n",
        "categoryvectors = [cv.index(1) for cv in [one_hot_class_vector(uniquecategories, w) for w in categories]]\n",
        "subcategoryvectors = [cv.index(1) for cv in [one_hot_class_vector(uniquesubcategories, w) for w in subcategories]]\n",
        "actionvectors = [cv.index(1) for cv in [one_hot_class_vector(uniqueactions, w) for w in actions]]\n",
        "sentencevectors = [sentence_vector(sentence) for sentence in sentences]\n",
        "sentencevectorstfidf = [sentence_vector(sentence, True) for sentence in sentences]"
      ]
    },
    {
      "cell_type": "code",
      "execution_count": null,
      "metadata": {
        "id": "3-KNdgyVI5UG"
      },
      "outputs": [],
      "source": [
        "from sklearn.neural_network import MLPClassifier\n",
        "from sklearn.model_selection import train_test_split\n",
        "from sklearn.metrics import accuracy_score"
      ]
    },
    {
      "cell_type": "code",
      "execution_count": null,
      "metadata": {
        "id": "YSKS1Kf6IP-W"
      },
      "outputs": [],
      "source": [
        "# Splitting data into training and testing sets for category prediction\n",
        "X_train_cat, X_test_cat, y_train_cat, y_test_cat = train_test_split(sentencevectors, categoryvectors, test_size=0.25, random_state=42)\n",
        "\n",
        "# Splitting data into training and testing sets for category prediction with TF-IDF vectors\n",
        "X_train_cat_tfidf, X_test_cat_tfidf, y_train_cat_tfidf, y_test_cat_tfidf = train_test_split(sentencevectorstfidf, categoryvectors, test_size=0.25, random_state=42)\n",
        "\n",
        "# Splitting data into training and testing sets for subcategory prediction\n",
        "X_train_subcat, X_test_subcat, y_train_subcat, y_test_subcat = train_test_split(sentencevectors, subcategoryvectors, test_size=0.25, random_state=42)\n",
        "\n",
        "# Splitting data into training and testing sets for action prediction\n",
        "X_train_action, X_test_action, y_train_action, y_test_action = train_test_split(sentencevectors, actionvectors, test_size=0.25, random_state=42)"
      ]
    },
    {
      "cell_type": "code",
      "execution_count": null,
      "metadata": {
        "id": "CjpI_aBBHcVG"
      },
      "outputs": [],
      "source": [
        "def train_fit(model_name, model, X_train, y_train, X_test, y_test):\n",
        "    model.fit(X_train, y_train)\n",
        "    return model"
      ]
    },
    {
      "cell_type": "code",
      "execution_count": null,
      "metadata": {
        "colab": {
          "base_uri": "https://localhost:8080/",
          "height": 75
        },
        "id": "BRbocZ_oBEwf",
        "outputId": "a629ba3f-aaa2-45ed-e29b-c226c0dd17ed"
      },
      "outputs": [
        {
          "data": {
            "text/html": [
              "<style>#sk-container-id-5 {color: black;background-color: white;}#sk-container-id-5 pre{padding: 0;}#sk-container-id-5 div.sk-toggleable {background-color: white;}#sk-container-id-5 label.sk-toggleable__label {cursor: pointer;display: block;width: 100%;margin-bottom: 0;padding: 0.3em;box-sizing: border-box;text-align: center;}#sk-container-id-5 label.sk-toggleable__label-arrow:before {content: \"▸\";float: left;margin-right: 0.25em;color: #696969;}#sk-container-id-5 label.sk-toggleable__label-arrow:hover:before {color: black;}#sk-container-id-5 div.sk-estimator:hover label.sk-toggleable__label-arrow:before {color: black;}#sk-container-id-5 div.sk-toggleable__content {max-height: 0;max-width: 0;overflow: hidden;text-align: left;background-color: #f0f8ff;}#sk-container-id-5 div.sk-toggleable__content pre {margin: 0.2em;color: black;border-radius: 0.25em;background-color: #f0f8ff;}#sk-container-id-5 input.sk-toggleable__control:checked~div.sk-toggleable__content {max-height: 200px;max-width: 100%;overflow: auto;}#sk-container-id-5 input.sk-toggleable__control:checked~label.sk-toggleable__label-arrow:before {content: \"▾\";}#sk-container-id-5 div.sk-estimator input.sk-toggleable__control:checked~label.sk-toggleable__label {background-color: #d4ebff;}#sk-container-id-5 div.sk-label input.sk-toggleable__control:checked~label.sk-toggleable__label {background-color: #d4ebff;}#sk-container-id-5 input.sk-hidden--visually {border: 0;clip: rect(1px 1px 1px 1px);clip: rect(1px, 1px, 1px, 1px);height: 1px;margin: -1px;overflow: hidden;padding: 0;position: absolute;width: 1px;}#sk-container-id-5 div.sk-estimator {font-family: monospace;background-color: #f0f8ff;border: 1px dotted black;border-radius: 0.25em;box-sizing: border-box;margin-bottom: 0.5em;}#sk-container-id-5 div.sk-estimator:hover {background-color: #d4ebff;}#sk-container-id-5 div.sk-parallel-item::after {content: \"\";width: 100%;border-bottom: 1px solid gray;flex-grow: 1;}#sk-container-id-5 div.sk-label:hover label.sk-toggleable__label {background-color: #d4ebff;}#sk-container-id-5 div.sk-serial::before {content: \"\";position: absolute;border-left: 1px solid gray;box-sizing: border-box;top: 0;bottom: 0;left: 50%;z-index: 0;}#sk-container-id-5 div.sk-serial {display: flex;flex-direction: column;align-items: center;background-color: white;padding-right: 0.2em;padding-left: 0.2em;position: relative;}#sk-container-id-5 div.sk-item {position: relative;z-index: 1;}#sk-container-id-5 div.sk-parallel {display: flex;align-items: stretch;justify-content: center;background-color: white;position: relative;}#sk-container-id-5 div.sk-item::before, #sk-container-id-5 div.sk-parallel-item::before {content: \"\";position: absolute;border-left: 1px solid gray;box-sizing: border-box;top: 0;bottom: 0;left: 50%;z-index: -1;}#sk-container-id-5 div.sk-parallel-item {display: flex;flex-direction: column;z-index: 1;position: relative;background-color: white;}#sk-container-id-5 div.sk-parallel-item:first-child::after {align-self: flex-end;width: 50%;}#sk-container-id-5 div.sk-parallel-item:last-child::after {align-self: flex-start;width: 50%;}#sk-container-id-5 div.sk-parallel-item:only-child::after {width: 0;}#sk-container-id-5 div.sk-dashed-wrapped {border: 1px dashed gray;margin: 0 0.4em 0.5em 0.4em;box-sizing: border-box;padding-bottom: 0.4em;background-color: white;}#sk-container-id-5 div.sk-label label {font-family: monospace;font-weight: bold;display: inline-block;line-height: 1.2em;}#sk-container-id-5 div.sk-label-container {text-align: center;}#sk-container-id-5 div.sk-container {/* jupyter's `normalize.less` sets `[hidden] { display: none; }` but bootstrap.min.css set `[hidden] { display: none !important; }` so we also need the `!important` here to be able to override the default hidden behavior on the sphinx rendered scikit-learn.org. See: https://github.com/scikit-learn/scikit-learn/issues/21755 */display: inline-block !important;position: relative;}#sk-container-id-5 div.sk-text-repr-fallback {display: none;}</style><div id=\"sk-container-id-5\" class=\"sk-top-container\"><div class=\"sk-text-repr-fallback\"><pre>MLPClassifier(max_iter=10000)</pre><b>In a Jupyter environment, please rerun this cell to show the HTML representation or trust the notebook. <br />On GitHub, the HTML representation is unable to render, please try loading this page with nbviewer.org.</b></div><div class=\"sk-container\" hidden><div class=\"sk-item\"><div class=\"sk-estimator sk-toggleable\"><input class=\"sk-toggleable__control sk-hidden--visually\" id=\"sk-estimator-id-5\" type=\"checkbox\" checked><label for=\"sk-estimator-id-5\" class=\"sk-toggleable__label sk-toggleable__label-arrow\">MLPClassifier</label><div class=\"sk-toggleable__content\"><pre>MLPClassifier(max_iter=10000)</pre></div></div></div></div></div>"
            ],
            "text/plain": [
              "MLPClassifier(max_iter=10000)"
            ]
          },
          "execution_count": 147,
          "metadata": {},
          "output_type": "execute_result"
        }
      ],
      "source": [
        "# Create MLPClassifier model\n",
        "mlp_max_iter_model = MLPClassifier(max_iter=10000)\n",
        "\n",
        "# Train and fit the model\n",
        "mlp_max_iter_model.fit(X_train_cat, y_train_cat)"
      ]
    },
    {
      "cell_type": "code",
      "execution_count": null,
      "metadata": {
        "id": "WLTb8ViPK5kc"
      },
      "outputs": [],
      "source": [
        "# Initialize MLPClassifier model with maximum iterations set to 10000\n",
        "mlp_max_iter_model_cat = MLPClassifier(max_iter=10000)\n",
        "\n",
        "# Train and fit the MLPClassifier model for category prediction\n",
        "mlp_max_iter_model_cat = train_fit(\"MLPClassifier\", mlp_max_iter_model_cat, X_train_cat, y_train_cat, X_test_cat, y_test_cat)\n",
        "\n",
        "# Initialize another MLPClassifier model with maximum iterations set to 10000 for subcategory prediction\n",
        "mlp_max_iter_model_subcat = MLPClassifier(max_iter=10000)\n",
        "\n",
        "# Train and fit the MLPClassifier model for subcategory prediction\n",
        "mlp_max_iter_model_subcat = train_fit(\"MLPClassifier\", mlp_max_iter_model_subcat, X_train_subcat, y_train_subcat, X_test_subcat, y_test_subcat)\n",
        "\n",
        "# Initialize another MLPClassifier model with maximum iterations set to 10000 for action prediction\n",
        "mlp_max_iter_model_action = MLPClassifier(max_iter=10000)\n",
        "\n",
        "# Train and fit the MLPClassifier model for action prediction\n",
        "mlp_max_iter_model_action = train_fit(\"MLPClassifier\", mlp_max_iter_model_action, X_train_action, y_train_action, X_test_action, y_test_action)"
      ]
    },
    {
      "cell_type": "code",
      "execution_count": null,
      "metadata": {
        "colab": {
          "base_uri": "https://localhost:8080/"
        },
        "id": "E3X4fNdPP-4Q",
        "outputId": "ea6fc121-63c0-400d-c195-f37f5b046302"
      },
      "outputs": [
        {
          "name": "stdout",
          "output_type": "stream",
          "text": [
            "Accuracy for category prediction: 0.8975903614457831\n",
            "Accuracy for subcategory prediction: 0.8674698795180723\n",
            "Accuracy for action prediction: 0.8975903614457831\n"
          ]
        }
      ],
      "source": [
        "# Calculate accuracy for category prediction\n",
        "accuracy_cat = mlp_max_iter_model_cat.score(X_test_cat, y_test_cat)\n",
        "print(\"Accuracy for category prediction:\", accuracy_cat)\n",
        "\n",
        "# Calculate accuracy for subcategory prediction\n",
        "accuracy_subcat = mlp_max_iter_model_subcat.score(X_test_subcat, y_test_subcat)\n",
        "print(\"Accuracy for subcategory prediction:\", accuracy_subcat)\n",
        "\n",
        "# Calculate accuracy for action prediction\n",
        "accuracy_action = mlp_max_iter_model_action.score(X_test_action, y_test_action)\n",
        "print(\"Accuracy for action prediction:\", accuracy_action)\n"
      ]
    },
    {
      "cell_type": "code",
      "execution_count": null,
      "metadata": {
        "id": "spaQVz2h8oha"
      },
      "outputs": [],
      "source": [
        "def predict(model, classes, sentence):\n",
        "    y_preds = model.predict([sentence_vector(sentence)])\n",
        "    return classes[y_preds[0]]"
      ]
    },
    {
      "cell_type": "code",
      "execution_count": null,
      "metadata": {
        "colab": {
          "base_uri": "https://localhost:8080/"
        },
        "id": "UMXe1IO68y6K",
        "outputId": "98989cd7-0e88-4f26-bc2f-36e9fe8a00a0"
      },
      "outputs": [
        {
          "name": "stdout",
          "output_type": "stream",
          "text": [
            "lights\n",
            "kitchen\n",
            "off\n"
          ]
        }
      ],
      "source": [
        "sentence = \"Turn the lights off in the kitchen.\"\n",
        "print(predict(mlp_max_iter_model, uniquecategories, sentence))\n",
        "print(predict(mlp_max_iter_model_subcat, uniquesubcategories, sentence))\n",
        "print(predict(mlp_max_iter_model_action, uniqueactions, sentence))"
      ]
    },
    {
      "cell_type": "code",
      "execution_count": null,
      "metadata": {
        "colab": {
          "base_uri": "https://localhost:8080/"
        },
        "id": "2VE6ejBoaj3a",
        "outputId": "16f1e5e0-0bd0-405b-d282-45a67c391a5c"
      },
      "outputs": [
        {
          "name": "stdout",
          "output_type": "stream",
          "text": [
            "lights\n",
            "library\n",
            "on\n"
          ]
        }
      ],
      "source": [
        "sentence = \"Turn on the library lights.\"\n",
        "print(predict(mlp_max_iter_model, uniquecategories, sentence))\n",
        "print(predict(mlp_max_iter_model_subcat, uniquesubcategories, sentence))\n",
        "print(predict(mlp_max_iter_model_action, uniqueactions, sentence))"
      ]
    },
    {
      "cell_type": "code",
      "execution_count": null,
      "metadata": {
        "colab": {
          "base_uri": "https://localhost:8080/"
        },
        "id": "JXHfJYx5ikCK",
        "outputId": "94b61f63-012d-4fb8-defb-3fab02321c0a"
      },
      "outputs": [
        {
          "name": "stdout",
          "output_type": "stream",
          "text": [
            "garagedoor\n",
            "garage\n",
            "down\n"
          ]
        }
      ],
      "source": [
        "sentence = \"Close the garage door.\"\n",
        "print(predict(mlp_max_iter_model, uniquecategories, sentence))\n",
        "print(predict(mlp_max_iter_model_subcat, uniquesubcategories, sentence))\n",
        "print(predict(mlp_max_iter_model_action, uniqueactions, sentence))"
      ]
    },
    {
      "cell_type": "code",
      "execution_count": null,
      "metadata": {
        "colab": {
          "base_uri": "https://localhost:8080/"
        },
        "id": "2m73a9c3jX3s",
        "outputId": "6f224d81-a40f-48dd-ef93-5e31d0bfa597"
      },
      "outputs": [
        {
          "name": "stdout",
          "output_type": "stream",
          "text": [
            "Requirement already satisfied: SpeechRecognition in /usr/local/lib/python3.10/dist-packages (3.10.1)\n",
            "Requirement already satisfied: requests>=2.26.0 in /usr/local/lib/python3.10/dist-packages (from SpeechRecognition) (2.31.0)\n",
            "Requirement already satisfied: typing-extensions in /usr/local/lib/python3.10/dist-packages (from SpeechRecognition) (4.10.0)\n",
            "Requirement already satisfied: charset-normalizer<4,>=2 in /usr/local/lib/python3.10/dist-packages (from requests>=2.26.0->SpeechRecognition) (3.3.2)\n",
            "Requirement already satisfied: idna<4,>=2.5 in /usr/local/lib/python3.10/dist-packages (from requests>=2.26.0->SpeechRecognition) (3.6)\n",
            "Requirement already satisfied: urllib3<3,>=1.21.1 in /usr/local/lib/python3.10/dist-packages (from requests>=2.26.0->SpeechRecognition) (2.0.7)\n",
            "Requirement already satisfied: certifi>=2017.4.17 in /usr/local/lib/python3.10/dist-packages (from requests>=2.26.0->SpeechRecognition) (2024.2.2)\n",
            "Collecting pyaudio\n",
            "  Downloading PyAudio-0.2.14.tar.gz (47 kB)\n",
            "\u001b[2K     \u001b[90m━━━━━━━━━━━━━━━━━━━━━━━━━━━━━━━━━━━━━━━━\u001b[0m \u001b[32m47.1/47.1 kB\u001b[0m \u001b[31m1.6 MB/s\u001b[0m eta \u001b[36m0:00:00\u001b[0m\n",
            "\u001b[?25h  Installing build dependencies ... \u001b[?25l\u001b[?25hdone\n",
            "  Getting requirements to build wheel ... \u001b[?25l\u001b[?25hdone\n",
            "  Preparing metadata (pyproject.toml) ... \u001b[?25l\u001b[?25hdone\n",
            "Building wheels for collected packages: pyaudio\n",
            "  \u001b[1;31merror\u001b[0m: \u001b[1msubprocess-exited-with-error\u001b[0m\n",
            "  \n",
            "  \u001b[31m×\u001b[0m \u001b[32mBuilding wheel for pyaudio \u001b[0m\u001b[1;32m(\u001b[0m\u001b[32mpyproject.toml\u001b[0m\u001b[1;32m)\u001b[0m did not run successfully.\n",
            "  \u001b[31m│\u001b[0m exit code: \u001b[1;36m1\u001b[0m\n",
            "  \u001b[31m╰─>\u001b[0m See above for output.\n",
            "  \n",
            "  \u001b[1;35mnote\u001b[0m: This error originates from a subprocess, and is likely not a problem with pip.\n",
            "  Building wheel for pyaudio (pyproject.toml) ... \u001b[?25l\u001b[?25herror\n",
            "\u001b[31m  ERROR: Failed building wheel for pyaudio\u001b[0m\u001b[31m\n",
            "\u001b[0mFailed to build pyaudio\n",
            "\u001b[31mERROR: Could not build wheels for pyaudio, which is required to install pyproject.toml-based projects\u001b[0m\u001b[31m\n",
            "\u001b[0m"
          ]
        }
      ],
      "source": [
        "!pip install SpeechRecognition\n",
        "!pip install pyaudio\n"
      ]
    },
    {
      "cell_type": "code",
      "execution_count": null,
      "metadata": {
        "id": "ZLjrmZ9Ija8x"
      },
      "outputs": [],
      "source": [
        "import speech_recognition\n"
      ]
    },
    {
      "cell_type": "code",
      "execution_count": null,
      "metadata": {
        "colab": {
          "base_uri": "https://localhost:8080/",
          "height": 460
        },
        "id": "k6tSSAlkjxgV",
        "outputId": "47da49ea-8a1d-4061-b27e-8409221c2bdf"
      },
      "outputs": [
        {
          "ename": "AttributeError",
          "evalue": "Could not find PyAudio; check installation",
          "output_type": "error",
          "traceback": [
            "\u001b[0;31m---------------------------------------------------------------------------\u001b[0m",
            "\u001b[0;31mModuleNotFoundError\u001b[0m                       Traceback (most recent call last)",
            "\u001b[0;32m/usr/local/lib/python3.10/dist-packages/speech_recognition/__init__.py\u001b[0m in \u001b[0;36mget_pyaudio\u001b[0;34m()\u001b[0m\n\u001b[1;32m    107\u001b[0m         \u001b[0;32mtry\u001b[0m\u001b[0;34m:\u001b[0m\u001b[0;34m\u001b[0m\u001b[0;34m\u001b[0m\u001b[0m\n\u001b[0;32m--> 108\u001b[0;31m             \u001b[0;32mimport\u001b[0m \u001b[0mpyaudio\u001b[0m\u001b[0;34m\u001b[0m\u001b[0;34m\u001b[0m\u001b[0m\n\u001b[0m\u001b[1;32m    109\u001b[0m         \u001b[0;32mexcept\u001b[0m \u001b[0mImportError\u001b[0m\u001b[0;34m:\u001b[0m\u001b[0;34m\u001b[0m\u001b[0;34m\u001b[0m\u001b[0m\n",
            "\u001b[0;31mModuleNotFoundError\u001b[0m: No module named 'pyaudio'",
            "\nDuring handling of the above exception, another exception occurred:\n",
            "\u001b[0;31mAttributeError\u001b[0m                            Traceback (most recent call last)",
            "\u001b[0;32m<ipython-input-160-e5864009a069>\u001b[0m in \u001b[0;36m<cell line: 5>\u001b[0;34m()\u001b[0m\n\u001b[1;32m      3\u001b[0m \u001b[0;34m\u001b[0m\u001b[0m\n\u001b[1;32m      4\u001b[0m \u001b[0;31m# Get the microphone\u001b[0m\u001b[0;34m\u001b[0m\u001b[0;34m\u001b[0m\u001b[0m\n\u001b[0;32m----> 5\u001b[0;31m \u001b[0mmicrophone\u001b[0m \u001b[0;34m=\u001b[0m \u001b[0mspeech_recognition\u001b[0m\u001b[0;34m.\u001b[0m\u001b[0mMicrophone\u001b[0m\u001b[0;34m(\u001b[0m\u001b[0;34m)\u001b[0m\u001b[0;34m\u001b[0m\u001b[0;34m\u001b[0m\u001b[0m\n\u001b[0m\u001b[1;32m      6\u001b[0m \u001b[0;34m\u001b[0m\u001b[0m\n\u001b[1;32m      7\u001b[0m \u001b[0;31m# Set the recognition threshold\u001b[0m\u001b[0;34m\u001b[0m\u001b[0;34m\u001b[0m\u001b[0m\n",
            "\u001b[0;32m/usr/local/lib/python3.10/dist-packages/speech_recognition/__init__.py\u001b[0m in \u001b[0;36m__init__\u001b[0;34m(self, device_index, sample_rate, chunk_size)\u001b[0m\n\u001b[1;32m     78\u001b[0m \u001b[0;34m\u001b[0m\u001b[0m\n\u001b[1;32m     79\u001b[0m         \u001b[0;31m# set up PyAudio\u001b[0m\u001b[0;34m\u001b[0m\u001b[0;34m\u001b[0m\u001b[0m\n\u001b[0;32m---> 80\u001b[0;31m         \u001b[0mself\u001b[0m\u001b[0;34m.\u001b[0m\u001b[0mpyaudio_module\u001b[0m \u001b[0;34m=\u001b[0m \u001b[0mself\u001b[0m\u001b[0;34m.\u001b[0m\u001b[0mget_pyaudio\u001b[0m\u001b[0;34m(\u001b[0m\u001b[0;34m)\u001b[0m\u001b[0;34m\u001b[0m\u001b[0;34m\u001b[0m\u001b[0m\n\u001b[0m\u001b[1;32m     81\u001b[0m         \u001b[0maudio\u001b[0m \u001b[0;34m=\u001b[0m \u001b[0mself\u001b[0m\u001b[0;34m.\u001b[0m\u001b[0mpyaudio_module\u001b[0m\u001b[0;34m.\u001b[0m\u001b[0mPyAudio\u001b[0m\u001b[0;34m(\u001b[0m\u001b[0;34m)\u001b[0m\u001b[0;34m\u001b[0m\u001b[0;34m\u001b[0m\u001b[0m\n\u001b[1;32m     82\u001b[0m         \u001b[0;32mtry\u001b[0m\u001b[0;34m:\u001b[0m\u001b[0;34m\u001b[0m\u001b[0;34m\u001b[0m\u001b[0m\n",
            "\u001b[0;32m/usr/local/lib/python3.10/dist-packages/speech_recognition/__init__.py\u001b[0m in \u001b[0;36mget_pyaudio\u001b[0;34m()\u001b[0m\n\u001b[1;32m    108\u001b[0m             \u001b[0;32mimport\u001b[0m \u001b[0mpyaudio\u001b[0m\u001b[0;34m\u001b[0m\u001b[0;34m\u001b[0m\u001b[0m\n\u001b[1;32m    109\u001b[0m         \u001b[0;32mexcept\u001b[0m \u001b[0mImportError\u001b[0m\u001b[0;34m:\u001b[0m\u001b[0;34m\u001b[0m\u001b[0;34m\u001b[0m\u001b[0m\n\u001b[0;32m--> 110\u001b[0;31m             \u001b[0;32mraise\u001b[0m \u001b[0mAttributeError\u001b[0m\u001b[0;34m(\u001b[0m\u001b[0;34m\"Could not find PyAudio; check installation\"\u001b[0m\u001b[0;34m)\u001b[0m\u001b[0;34m\u001b[0m\u001b[0;34m\u001b[0m\u001b[0m\n\u001b[0m\u001b[1;32m    111\u001b[0m         \u001b[0;32mfrom\u001b[0m \u001b[0mdistutils\u001b[0m\u001b[0;34m.\u001b[0m\u001b[0mversion\u001b[0m \u001b[0;32mimport\u001b[0m \u001b[0mLooseVersion\u001b[0m\u001b[0;34m\u001b[0m\u001b[0;34m\u001b[0m\u001b[0m\n\u001b[1;32m    112\u001b[0m         \u001b[0;32mif\u001b[0m \u001b[0mLooseVersion\u001b[0m\u001b[0;34m(\u001b[0m\u001b[0mpyaudio\u001b[0m\u001b[0;34m.\u001b[0m\u001b[0m__version__\u001b[0m\u001b[0;34m)\u001b[0m \u001b[0;34m<\u001b[0m \u001b[0mLooseVersion\u001b[0m\u001b[0;34m(\u001b[0m\u001b[0;34m\"0.2.11\"\u001b[0m\u001b[0;34m)\u001b[0m\u001b[0;34m:\u001b[0m\u001b[0;34m\u001b[0m\u001b[0;34m\u001b[0m\u001b[0m\n",
            "\u001b[0;31mAttributeError\u001b[0m: Could not find PyAudio; check installation"
          ]
        }
      ],
      "source": [
        "\n",
        "# Initialize the recognizer\n",
        "recognizer = speech_recognition.Recognizer()\n",
        "\n",
        "# Get the microphone\n",
        "microphone = speech_recognition.Microphone()\n",
        "\n",
        "# Set the recognition threshold\n",
        "recognizer.pause_threshold = 3\n",
        "\n",
        "# Start listening\n",
        "with microphone as source:\n",
        "    print(\"Listening...\")\n",
        "    audio = recognizer.listen(source)\n",
        "\n",
        "# Recognize the speech\n",
        "try:\n",
        "    recognized_text = recognizer.recognize_google(audio)\n",
        "    print(\"You said:\", recognized_text)\n",
        "except speech_recognition.UnknownValueError:\n",
        "    print(\"Sorry, I couldn't understand what you said.\")\n",
        "except speech_recognition.RequestError as e:\n",
        "    print(\"Error:\", e)"
      ]
    },
    {
      "cell_type": "code",
      "execution_count": null,
      "metadata": {
        "id": "n53-nBdhj3yO"
      },
      "outputs": [],
      "source": []
    }
  ],
  "metadata": {
    "colab": {
      "provenance": []
    },
    "kernelspec": {
      "display_name": "Python 3",
      "name": "python3"
    },
    "language_info": {
      "codemirror_mode": {
        "name": "ipython",
        "version": 3
      },
      "file_extension": ".py",
      "mimetype": "text/x-python",
      "name": "python",
      "nbconvert_exporter": "python",
      "pygments_lexer": "ipython3",
      "version": "3.10.12"
    }
  },
  "nbformat": 4,
  "nbformat_minor": 0
}
